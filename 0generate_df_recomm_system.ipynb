{
 "cells": [
  {
   "cell_type": "markdown",
   "id": "73f56722",
   "metadata": {},
   "source": [
    "# Generate DFS\n",
    "\n",
    "Este notebook tem como função gerar os dataframes que serão utilizados no desenvolvimento do projeto, para tanto, teremos três data frames principais:\n",
    "* Dados transacionais: dados de cada usuário em um range de tempo específico, ou seja, quais músicas e genero aquele usuário escutou (optei por ultilizar os primeiros seis meses, delineando o estudo como sazonal semestral)\n",
    "* Dados informacionais do genero das músicas\n",
    "* Dados dos artistas"
   ]
  },
  {
   "cell_type": "markdown",
   "id": "7b8fdcb8",
   "metadata": {
    "heading_collapsed": true
   },
   "source": [
    "### Requirements"
   ]
  },
  {
   "cell_type": "code",
   "execution_count": 2,
   "id": "09f99c8d",
   "metadata": {
    "ExecuteTime": {
     "end_time": "2023-07-23T14:53:19.603307Z",
     "start_time": "2023-07-23T14:53:19.215441Z"
    },
    "hidden": true
   },
   "outputs": [],
   "source": [
    "import random\n",
    "import numpy as np\n",
    "import pandas as pd\n",
    "from datetime import datetime"
   ]
  },
  {
   "cell_type": "markdown",
   "id": "d828a42a",
   "metadata": {},
   "source": [
    "### Functions"
   ]
  },
  {
   "cell_type": "markdown",
   "id": "03d69ac3",
   "metadata": {
    "heading_collapsed": true
   },
   "source": [
    "## transactional data"
   ]
  },
  {
   "cell_type": "code",
   "execution_count": 3,
   "id": "64630332",
   "metadata": {
    "ExecuteTime": {
     "end_time": "2023-07-23T14:53:19.633313Z",
     "start_time": "2023-07-23T14:53:19.603307Z"
    },
    "hidden": true
   },
   "outputs": [],
   "source": [
    "def create_df_modeling(start_date, end_date,\n",
    "                       low_user, high_user, dau,\n",
    "                       low_track, high_track, \n",
    "                       min_plays, max_plays,\n",
    "                       min_n_tracks, max_n_tracks\n",
    "                      ):\n",
    "    # creates a range of dates\n",
    "    date_range = pd.date_range(start_date, end_date)\n",
    "    # creates empty array for the final user array\n",
    "    user_array_acum = []\n",
    "    # creates empty array for the final id_date array\n",
    "    date_array_acum = []\n",
    "    # creates empty array for the final track array\n",
    "    tracks_array_acum = []\n",
    "    # creates empty array for the final plays array\n",
    "    plays_array_acum = []\n",
    "    # minimum number of random listeners per day (dau)\n",
    "    length_user = 1 + int((high_user-low_user) * dau)\n",
    "    # for loop to random create transactional data\n",
    "    for current_date in date_range:\n",
    "        #\n",
    "        user_array = np.random.randint(low_user, high_user, size = length_user)\n",
    "        user_array_col = np.reshape(user_array, (len(user_array), 1))\n",
    "        user_array_acum.append(user_array_col)\n",
    "        #\n",
    "        date_array = current_date.strftime(\"%Y-%m-%d\")\n",
    "        date_array = np.full(len(user_array), current_date)\n",
    "        date_array_col = np.reshape(date_array, (len(date_array), 1))\n",
    "        date_array_acum.append(date_array_col)\n",
    "    # for loop that ranges from the min id_user to the max id_user\n",
    "    for k in range(0,len(np.concatenate(user_array_acum))):\n",
    "        # defines randomly the maximum range of tracks a listener can listen in 1 single day\n",
    "        length_size = random.randint(min_n_tracks, max_n_tracks)\n",
    "        # selects at random an array of id_track for the specific listener\n",
    "        tracks_array = np.random.randint(low_track, high_track, size = length_size)\n",
    "        tracks_array_acum.append(tracks_array)\n",
    "        # select at random the average of plays given by each user on a giving day\n",
    "        plays_array = np.random.randint(min_plays, max_plays, size = length_size)\n",
    "        plays_array_acum.append(plays_array) \n",
    "    # concatenates the arrays of date, id_user and plays on the final dataframe\n",
    "    date_array_final = np.concatenate(date_array_acum, axis = 0)\n",
    "    user_array_final = np.concatenate(user_array_acum, axis = 0)\n",
    "    # creates the final transactional dataframe with id_users and number of plays for each day\n",
    "    df = pd.DataFrame({'id_date':date_array_final.reshape(len(date_array_final)),\n",
    "                       'user_id':user_array_final.reshape(len(user_array_final)),\n",
    "                       'id_tracks': tracks_array_acum,\n",
    "                       'plays':plays_array_acum\n",
    "                      })\n",
    "    # explodes the final dataframe to create a vertical transactional table\n",
    "    df = df.explode(['id_tracks','plays']).reset_index(drop=True)\n",
    "    #\n",
    "    return df"
   ]
  },
  {
   "cell_type": "markdown",
   "id": "d77e63e0",
   "metadata": {
    "heading_collapsed": true
   },
   "source": [
    "## Dimensional content"
   ]
  },
  {
   "cell_type": "code",
   "execution_count": 4,
   "id": "1944c4e4",
   "metadata": {
    "ExecuteTime": {
     "end_time": "2023-07-23T14:53:19.648939Z",
     "start_time": "2023-07-23T14:53:19.633313Z"
    },
    "hidden": true
   },
   "outputs": [],
   "source": [
    "def create_dim_content(n_tracks, min_tracks, max_tracks, n_artists, n_genres):\n",
    "    # creates an initial list of id_tracks\n",
    "    id_track_list = [i for i in range(1,n_tracks+1)]\n",
    "    # creates an initial list of id_artists\n",
    "    id_artist_list = [i for i in range(1, n_artists+1)]\n",
    "    # creates an initial list of id_genres\n",
    "    id_genres = [i for i in range(1,n_genres)]\n",
    "    # creates array with the specific size of tracks by artists to be distributed amongst all artists\n",
    "    artist_array_sizes = np.random.randint(min_tracks, max_tracks, size = n_artists).tolist()\n",
    "    # Create a copy of the list\n",
    "    list_copy = id_track_list.copy()\n",
    "    # initiates an empty array to store results of for loop append (arrays of id_tracks)\n",
    "    sampled_arrays_acum = []\n",
    "    # initiates an empty array to store results of for loop append (arrays of id_genre)\n",
    "    sampled_arrays_genre_acum = []\n",
    "    # for loop to interate and create the dimensional data for id_artists and id_tracks\n",
    "    for size in artist_array_sizes:\n",
    "        if size <= len(list_copy):\n",
    "            sampled_arrays = random.sample(list_copy, size)\n",
    "            sampled_arrays_genre = random.choices(id_genres, k = size)\n",
    "            sampled_arrays_acum.append(sampled_arrays)\n",
    "            sampled_arrays_genre_acum.append(sampled_arrays_genre)\n",
    "            list_copy = [item for item in list_copy if item not in sampled_arrays]\n",
    "    # creates the final dimensional dataframe\n",
    "    df = pd.DataFrame({'id_artist':id_artist_list,\n",
    "                       'id_tracks':sampled_arrays_acum,\n",
    "                       'id_genre':sampled_arrays_genre_acum\n",
    "                      })\n",
    "    # explodes the final dataframe to create a vertical dimensional table\n",
    "    df = df.explode(['id_tracks','id_genre']).reset_index(drop = True)\n",
    "    #\n",
    "    return df"
   ]
  },
  {
   "cell_type": "markdown",
   "id": "f9e9af64",
   "metadata": {
    "heading_collapsed": true
   },
   "source": [
    "## Features for artists"
   ]
  },
  {
   "cell_type": "code",
   "execution_count": 5,
   "id": "7e372bcb",
   "metadata": {
    "ExecuteTime": {
     "end_time": "2023-07-23T14:53:19.664552Z",
     "start_time": "2023-07-23T14:53:19.648939Z"
    },
    "hidden": true
   },
   "outputs": [],
   "source": [
    "def creates_features(n_features,n_artists,std_max, min_mean, max_mean):\n",
    "    # creates an array with standard deviation of a uniform distribution\n",
    "    std_array = [random.uniform(0, std_max) for i in range(0,n_features)]\n",
    "    # creates an array with mean values of a uniform distribution\n",
    "    mean_array = [random.randint(min_mean, max_mean) for i in range(0,n_features)]\n",
    "    # creates an empty array with the number of rows as the same of the length of the quantity of artists\n",
    "    result = np.empty((n_artists, 0))\n",
    "    for i in range(0,n_features):\n",
    "        feature_i = np.random.normal(mean_array[i], std_array[i] * mean_array[i], n_artists)\n",
    "        feature_i = feature_i.astype(int)\n",
    "        result = np.column_stack((result, feature_i))\n",
    "        result = result.astype(int)\n",
    "    # creates the list of id_artist\n",
    "    id_artist = [i for i in range(1,n_artists+1)]\n",
    "    # fills values on the result array\n",
    "    result = np.column_stack((id_artist,result))\n",
    "    # creates a list with only one element\n",
    "    artist_col_names = ['id_artist']\n",
    "    # creates a list with the names of the features that will be used on the final dataframe\n",
    "    feat_col_names = ['Feature'+str(i) for i in range(1,n_features+1)]\n",
    "    # adds two lists (elements will be use as the header of the final dataframe)\n",
    "    col_names = artist_col_names + feat_col_names\n",
    "    # final dataframe with features by artist\n",
    "    df = pd.DataFrame(result, columns = col_names)\n",
    "    return df"
   ]
  },
  {
   "cell_type": "markdown",
   "id": "5b94d5c5",
   "metadata": {},
   "source": [
    "# Pipeline"
   ]
  },
  {
   "cell_type": "markdown",
   "id": "ef578b69",
   "metadata": {
    "heading_collapsed": true
   },
   "source": [
    "## Defining global parameters"
   ]
  },
  {
   "cell_type": "code",
   "execution_count": 12,
   "id": "e0acce28",
   "metadata": {},
   "outputs": [
    {
     "data": {
      "text/plain": [
       "'2023-06-30'"
      ]
     },
     "execution_count": 12,
     "metadata": {},
     "output_type": "execute_result"
    }
   ],
   "source": [
    "datetime(2023, 6, 30).strftime('%Y-%m-%d')"
   ]
  },
  {
   "cell_type": "code",
   "execution_count": 23,
   "id": "a45482a4",
   "metadata": {
    "ExecuteTime": {
     "end_time": "2023-07-23T14:53:19.680183Z",
     "start_time": "2023-07-23T14:53:19.664552Z"
    },
    "hidden": true
   },
   "outputs": [],
   "source": [
    "########################################################################################################\n",
    "######################### input parameters for the create_df_modeling function #########################\n",
    "# Define the range of dates for the trasactional dataset\n",
    "start_date = datetime(2023, 1, 1).strftime('%Y-%m-%d')\n",
    "end_date = datetime(2023, 7, 30).strftime('%Y-%m-%d')\n",
    "# defines the minimum id_user to consider\n",
    "low_user = 1\n",
    "# defines the maximum id_user to consider\n",
    "high_user = 50\n",
    "# defines the daily audience (the percentage of the sample size of users) for each id_date\n",
    "dau = 0.1\n",
    "# defines the minimum id_track available\n",
    "low_track = 1\n",
    "# defines the maximum id_track available\n",
    "high_track = 4000\n",
    "# defines the minimum number of plays a listener can hit play every day\n",
    "min_plays = 1\n",
    "# defines the maximum number of plays a listener can hit play every day\n",
    "max_plays = 20\n",
    "# defines the minimum number of tracks a listener can listen to every day\n",
    "min_n_tracks = 2\n",
    "# defines the maximum number of tracks a listener can listen to every day\n",
    "max_n_tracks = 5\n",
    "\n",
    "\n",
    "########################################################################################################\n",
    "################ input parameters for the create_dim_content function ##################################\n",
    "# defines the total number of tracks\n",
    "n_tracks = high_track\n",
    "# defines the total number of id_artist\n",
    "n_artists = 500\n",
    "# defines the total number of genres\n",
    "n_genres = 5\n",
    "# defines the minimum number of tracks by id_artist\n",
    "min_tracks = 2 * round((n_tracks/n_artists),0) * 0.2\n",
    "# defines the maximum number of tracks by id_artist\n",
    "max_tracks = 2 * round((n_tracks/n_artists),0) * 0.8\n",
    "\n",
    "\n",
    "########################################################################################################\n",
    "################ input parameters for the creates_features function ##################################\n",
    "# number of features that are going to appear on the final dataframe\n",
    "n_features = 10\n",
    "# maximum standard deviation value for each of the feature\n",
    "std_max = 1\n",
    "# minimum value for the mean value for each of the features\n",
    "min_mean = 100\n",
    "# maximum value for the mean value for each of the features\n",
    "max_mean = 1500"
   ]
  },
  {
   "cell_type": "markdown",
   "id": "cce5f6d2",
   "metadata": {
    "heading_collapsed": true
   },
   "source": [
    "## Creates df transactional data"
   ]
  },
  {
   "cell_type": "code",
   "execution_count": 24,
   "id": "8a4e2603",
   "metadata": {
    "ExecuteTime": {
     "end_time": "2023-07-23T14:53:19.695807Z",
     "start_time": "2023-07-23T14:53:19.680183Z"
    },
    "hidden": true
   },
   "outputs": [],
   "source": [
    "#\n",
    "df = create_df_modeling(start_date, end_date,\n",
    "                        low_user, high_user, dau,\n",
    "                        low_track, high_track, \n",
    "                        min_plays, max_plays,\n",
    "                        min_n_tracks, max_n_tracks\n",
    "                       )"
   ]
  },
  {
   "cell_type": "markdown",
   "id": "85b8338e",
   "metadata": {
    "heading_collapsed": true
   },
   "source": [
    "## Creates df dimensional content"
   ]
  },
  {
   "cell_type": "code",
   "execution_count": 25,
   "id": "2176052b",
   "metadata": {
    "ExecuteTime": {
     "end_time": "2023-07-23T14:53:19.789556Z",
     "start_time": "2023-07-23T14:53:19.695807Z"
    },
    "hidden": true
   },
   "outputs": [],
   "source": [
    "dc = create_dim_content(n_tracks,min_tracks,max_tracks,n_artists, n_genres)"
   ]
  },
  {
   "cell_type": "markdown",
   "id": "928bf400",
   "metadata": {
    "heading_collapsed": true
   },
   "source": [
    "## Creates df with features by artist"
   ]
  },
  {
   "cell_type": "code",
   "execution_count": 26,
   "id": "fc54e200",
   "metadata": {
    "ExecuteTime": {
     "end_time": "2023-07-23T14:53:19.805188Z",
     "start_time": "2023-07-23T14:53:19.789556Z"
    },
    "hidden": true
   },
   "outputs": [],
   "source": [
    "df_feat = creates_features(n_features,n_artists,std_max, min_mean, max_mean)"
   ]
  },
  {
   "cell_type": "markdown",
   "id": "9e9f4a67",
   "metadata": {},
   "source": [
    "# Artefacts"
   ]
  },
  {
   "cell_type": "markdown",
   "id": "39629d3e",
   "metadata": {
    "heading_collapsed": true
   },
   "source": [
    "## Transactional data source (reference modeling dataframe)"
   ]
  },
  {
   "cell_type": "code",
   "execution_count": 27,
   "id": "0eeb8d70",
   "metadata": {
    "ExecuteTime": {
     "end_time": "2023-07-23T14:53:19.820806Z",
     "start_time": "2023-07-23T14:53:19.805188Z"
    },
    "hidden": true
   },
   "outputs": [
    {
     "data": {
      "text/html": [
       "<div>\n",
       "<style scoped>\n",
       "    .dataframe tbody tr th:only-of-type {\n",
       "        vertical-align: middle;\n",
       "    }\n",
       "\n",
       "    .dataframe tbody tr th {\n",
       "        vertical-align: top;\n",
       "    }\n",
       "\n",
       "    .dataframe thead th {\n",
       "        text-align: right;\n",
       "    }\n",
       "</style>\n",
       "<table border=\"1\" class=\"dataframe\">\n",
       "  <thead>\n",
       "    <tr style=\"text-align: right;\">\n",
       "      <th></th>\n",
       "      <th>id_date</th>\n",
       "      <th>user_id</th>\n",
       "      <th>id_tracks</th>\n",
       "      <th>plays</th>\n",
       "    </tr>\n",
       "  </thead>\n",
       "  <tbody>\n",
       "    <tr>\n",
       "      <th>0</th>\n",
       "      <td>2023-01-01</td>\n",
       "      <td>41</td>\n",
       "      <td>611</td>\n",
       "      <td>3</td>\n",
       "    </tr>\n",
       "    <tr>\n",
       "      <th>1</th>\n",
       "      <td>2023-01-01</td>\n",
       "      <td>41</td>\n",
       "      <td>128</td>\n",
       "      <td>10</td>\n",
       "    </tr>\n",
       "    <tr>\n",
       "      <th>2</th>\n",
       "      <td>2023-01-01</td>\n",
       "      <td>41</td>\n",
       "      <td>478</td>\n",
       "      <td>12</td>\n",
       "    </tr>\n",
       "    <tr>\n",
       "      <th>3</th>\n",
       "      <td>2023-01-01</td>\n",
       "      <td>1</td>\n",
       "      <td>3003</td>\n",
       "      <td>17</td>\n",
       "    </tr>\n",
       "    <tr>\n",
       "      <th>4</th>\n",
       "      <td>2023-01-01</td>\n",
       "      <td>1</td>\n",
       "      <td>1778</td>\n",
       "      <td>13</td>\n",
       "    </tr>\n",
       "    <tr>\n",
       "      <th>...</th>\n",
       "      <td>...</td>\n",
       "      <td>...</td>\n",
       "      <td>...</td>\n",
       "      <td>...</td>\n",
       "    </tr>\n",
       "    <tr>\n",
       "      <th>3714</th>\n",
       "      <td>2023-07-30</td>\n",
       "      <td>30</td>\n",
       "      <td>1624</td>\n",
       "      <td>5</td>\n",
       "    </tr>\n",
       "    <tr>\n",
       "      <th>3715</th>\n",
       "      <td>2023-07-30</td>\n",
       "      <td>30</td>\n",
       "      <td>1981</td>\n",
       "      <td>2</td>\n",
       "    </tr>\n",
       "    <tr>\n",
       "      <th>3716</th>\n",
       "      <td>2023-07-30</td>\n",
       "      <td>30</td>\n",
       "      <td>1774</td>\n",
       "      <td>3</td>\n",
       "    </tr>\n",
       "    <tr>\n",
       "      <th>3717</th>\n",
       "      <td>2023-07-30</td>\n",
       "      <td>30</td>\n",
       "      <td>1973</td>\n",
       "      <td>17</td>\n",
       "    </tr>\n",
       "    <tr>\n",
       "      <th>3718</th>\n",
       "      <td>2023-07-30</td>\n",
       "      <td>30</td>\n",
       "      <td>1678</td>\n",
       "      <td>16</td>\n",
       "    </tr>\n",
       "  </tbody>\n",
       "</table>\n",
       "<p>3719 rows × 4 columns</p>\n",
       "</div>"
      ],
      "text/plain": [
       "        id_date  user_id id_tracks plays\n",
       "0    2023-01-01       41       611     3\n",
       "1    2023-01-01       41       128    10\n",
       "2    2023-01-01       41       478    12\n",
       "3    2023-01-01        1      3003    17\n",
       "4    2023-01-01        1      1778    13\n",
       "...         ...      ...       ...   ...\n",
       "3714 2023-07-30       30      1624     5\n",
       "3715 2023-07-30       30      1981     2\n",
       "3716 2023-07-30       30      1774     3\n",
       "3717 2023-07-30       30      1973    17\n",
       "3718 2023-07-30       30      1678    16\n",
       "\n",
       "[3719 rows x 4 columns]"
      ]
     },
     "execution_count": 27,
     "metadata": {},
     "output_type": "execute_result"
    }
   ],
   "source": [
    "df"
   ]
  },
  {
   "cell_type": "code",
   "execution_count": 35,
   "id": "2d88541c",
   "metadata": {},
   "outputs": [
    {
     "data": {
      "text/plain": [
       "id_date      datetime64[ns]\n",
       "user_id               int32\n",
       "id_tracks            object\n",
       "plays                object\n",
       "holiday               int32\n",
       "dtype: object"
      ]
     },
     "execution_count": 35,
     "metadata": {},
     "output_type": "execute_result"
    }
   ],
   "source": [
    "df.dtypes"
   ]
  },
  {
   "cell_type": "code",
   "execution_count": 36,
   "id": "58080a44",
   "metadata": {},
   "outputs": [
    {
     "data": {
      "text/plain": [
       "id_date      0\n",
       "user_id      0\n",
       "id_tracks    0\n",
       "plays        0\n",
       "holiday      0\n",
       "dtype: int64"
      ]
     },
     "execution_count": 36,
     "metadata": {},
     "output_type": "execute_result"
    }
   ],
   "source": [
    "df.isnull().sum()"
   ]
  },
  {
   "cell_type": "code",
   "execution_count": 30,
   "id": "49bcb4e2",
   "metadata": {},
   "outputs": [],
   "source": [
    "# identificando feriados\n",
    "from datetime import datetime, date\n",
    "import pandas as pd\n",
    "from pandas.tseries.holiday import AbstractHolidayCalendar, GoodFriday, Holiday, Easter, Day\n",
    "\n",
    "class Feriados(AbstractHolidayCalendar):\n",
    "    rules = [\n",
    "        Holiday('Confraternização Universal', month=1, day=1),\n",
    "        Holiday('Aniversário de São Paulo', month=1, day=25),\n",
    "        Holiday('Segunda-Feira de Carnaval', month=1, day=1, offset=[Easter(), Day(-48)]),\n",
    "        Holiday('Terça-Feira de Carnaval', month=1, day=1, offset=[Easter(), Day(-47)]),\n",
    "        Holiday('Quarta-Feira de Cinzas', month=1, day=1, offset=[Easter(), Day(-46)]),\n",
    "        # Sexta-feira Santa\n",
    "        GoodFriday,\n",
    "        Holiday('Corpus Christi', month=1, day=1, offset=[Easter(), Day(60)]),\n",
    "        Holiday('Tiradentes', month = 4, day = 21),\n",
    "        Holiday('Dia do Trabalho', month = 5, day = 1),\n",
    "        Holiday('Revolução Constitucionalista', month=7, day=9, start_date='1997-01-01'),\n",
    "        Holiday('Independência do Brasil', month = 9, day = 7),\n",
    "        Holiday('Nossa Senhora Aparecida', month = 10, day = 12),\n",
    "        Holiday('Finados', month = 11, day = 2),\n",
    "        Holiday('Proclamação da República', month = 11, day = 15),\n",
    "        Holiday('Dia da Consciencia Negra', month=11, day=20, start_date='2004-01-01'),\n",
    "        Holiday('Vespera de Natal', month=12, day=24),\n",
    "        Holiday('Natal', month = 12, day = 25)]\n",
    "\n",
    "sp_cal = Feriados()\n",
    "sp_feriados = pd.offsets.CustomBusinessDay(calendar=sp_cal)\n",
    "feriados_sp = sp_cal.holidays(datetime(2000, 12, 31), datetime(2079, 12, 31))\n",
    "\n",
    "start = datetime(2023, 1, 1)\n",
    "end = datetime(2023, 7, 30)\n",
    "date_fds = pd.bdate_range(start, end, freq='C', holidays=feriados_sp)"
   ]
  },
  {
   "cell_type": "code",
   "execution_count": 49,
   "metadata": {},
   "outputs": [],
   "source": [
    "df['holiday'] = np.where(df.id_date.isin([date_fds]), 0, 1)\n",
    "df['plays'] = df.plays.astype(int)"
   ]
  },
  {
   "cell_type": "code",
   "execution_count": 50,
   "id": "6c562ac5",
   "metadata": {},
   "outputs": [
    {
     "data": {
      "text/html": [
       "<div>\n",
       "<style scoped>\n",
       "    .dataframe tbody tr th:only-of-type {\n",
       "        vertical-align: middle;\n",
       "    }\n",
       "\n",
       "    .dataframe tbody tr th {\n",
       "        vertical-align: top;\n",
       "    }\n",
       "\n",
       "    .dataframe thead th {\n",
       "        text-align: right;\n",
       "    }\n",
       "</style>\n",
       "<table border=\"1\" class=\"dataframe\">\n",
       "  <thead>\n",
       "    <tr style=\"text-align: right;\">\n",
       "      <th></th>\n",
       "      <th>id_date</th>\n",
       "      <th>user_id</th>\n",
       "      <th>plays</th>\n",
       "      <th>holiday</th>\n",
       "    </tr>\n",
       "  </thead>\n",
       "  <tbody>\n",
       "    <tr>\n",
       "      <th>count</th>\n",
       "      <td>3719</td>\n",
       "      <td>3719.000000</td>\n",
       "      <td>3719.000000</td>\n",
       "      <td>3719.0</td>\n",
       "    </tr>\n",
       "    <tr>\n",
       "      <th>mean</th>\n",
       "      <td>2023-04-16 11:59:01.919870976</td>\n",
       "      <td>24.397956</td>\n",
       "      <td>10.021780</td>\n",
       "      <td>1.0</td>\n",
       "    </tr>\n",
       "    <tr>\n",
       "      <th>min</th>\n",
       "      <td>2023-01-01 00:00:00</td>\n",
       "      <td>1.000000</td>\n",
       "      <td>1.000000</td>\n",
       "      <td>1.0</td>\n",
       "    </tr>\n",
       "    <tr>\n",
       "      <th>25%</th>\n",
       "      <td>2023-02-24 00:00:00</td>\n",
       "      <td>12.000000</td>\n",
       "      <td>5.000000</td>\n",
       "      <td>1.0</td>\n",
       "    </tr>\n",
       "    <tr>\n",
       "      <th>50%</th>\n",
       "      <td>2023-04-18 00:00:00</td>\n",
       "      <td>24.000000</td>\n",
       "      <td>10.000000</td>\n",
       "      <td>1.0</td>\n",
       "    </tr>\n",
       "    <tr>\n",
       "      <th>75%</th>\n",
       "      <td>2023-06-07 00:00:00</td>\n",
       "      <td>37.000000</td>\n",
       "      <td>15.000000</td>\n",
       "      <td>1.0</td>\n",
       "    </tr>\n",
       "    <tr>\n",
       "      <th>max</th>\n",
       "      <td>2023-07-30 00:00:00</td>\n",
       "      <td>49.000000</td>\n",
       "      <td>19.000000</td>\n",
       "      <td>1.0</td>\n",
       "    </tr>\n",
       "    <tr>\n",
       "      <th>std</th>\n",
       "      <td>NaN</td>\n",
       "      <td>14.429244</td>\n",
       "      <td>5.479122</td>\n",
       "      <td>0.0</td>\n",
       "    </tr>\n",
       "  </tbody>\n",
       "</table>\n",
       "</div>"
      ],
      "text/plain": [
       "                             id_date      user_id        plays  holiday\n",
       "count                           3719  3719.000000  3719.000000   3719.0\n",
       "mean   2023-04-16 11:59:01.919870976    24.397956    10.021780      1.0\n",
       "min              2023-01-01 00:00:00     1.000000     1.000000      1.0\n",
       "25%              2023-02-24 00:00:00    12.000000     5.000000      1.0\n",
       "50%              2023-04-18 00:00:00    24.000000    10.000000      1.0\n",
       "75%              2023-06-07 00:00:00    37.000000    15.000000      1.0\n",
       "max              2023-07-30 00:00:00    49.000000    19.000000      1.0\n",
       "std                              NaN    14.429244     5.479122      0.0"
      ]
     },
     "execution_count": 50,
     "metadata": {},
     "output_type": "execute_result"
    }
   ],
   "source": [
    "df.describe()"
   ]
  },
  {
   "cell_type": "code",
   "execution_count": 48,
   "id": "665f9e8a",
   "metadata": {},
   "outputs": [
    {
     "data": {
      "text/plain": [
       "49"
      ]
     },
     "execution_count": 48,
     "metadata": {},
     "output_type": "execute_result"
    }
   ],
   "source": [
    "df.user_id.nunique()"
   ]
  },
  {
   "cell_type": "markdown",
   "id": "50d4b76e",
   "metadata": {
    "heading_collapsed": true
   },
   "source": [
    "## Dimensional data source with musical genre for each track"
   ]
  },
  {
   "cell_type": "code",
   "execution_count": 34,
   "id": "3e66c22d",
   "metadata": {
    "ExecuteTime": {
     "end_time": "2023-07-23T14:53:19.836426Z",
     "start_time": "2023-07-23T14:53:19.820806Z"
    },
    "hidden": true
   },
   "outputs": [
    {
     "data": {
      "text/html": [
       "<div>\n",
       "<style scoped>\n",
       "    .dataframe tbody tr th:only-of-type {\n",
       "        vertical-align: middle;\n",
       "    }\n",
       "\n",
       "    .dataframe tbody tr th {\n",
       "        vertical-align: top;\n",
       "    }\n",
       "\n",
       "    .dataframe thead th {\n",
       "        text-align: right;\n",
       "    }\n",
       "</style>\n",
       "<table border=\"1\" class=\"dataframe\">\n",
       "  <thead>\n",
       "    <tr style=\"text-align: right;\">\n",
       "      <th></th>\n",
       "      <th>id_artist</th>\n",
       "      <th>id_tracks</th>\n",
       "      <th>id_genre</th>\n",
       "    </tr>\n",
       "  </thead>\n",
       "  <tbody>\n",
       "    <tr>\n",
       "      <th>0</th>\n",
       "      <td>1</td>\n",
       "      <td>1380</td>\n",
       "      <td>1</td>\n",
       "    </tr>\n",
       "    <tr>\n",
       "      <th>1</th>\n",
       "      <td>1</td>\n",
       "      <td>460</td>\n",
       "      <td>4</td>\n",
       "    </tr>\n",
       "    <tr>\n",
       "      <th>2</th>\n",
       "      <td>1</td>\n",
       "      <td>1201</td>\n",
       "      <td>2</td>\n",
       "    </tr>\n",
       "    <tr>\n",
       "      <th>3</th>\n",
       "      <td>1</td>\n",
       "      <td>3053</td>\n",
       "      <td>2</td>\n",
       "    </tr>\n",
       "    <tr>\n",
       "      <th>4</th>\n",
       "      <td>2</td>\n",
       "      <td>3142</td>\n",
       "      <td>3</td>\n",
       "    </tr>\n",
       "    <tr>\n",
       "      <th>...</th>\n",
       "      <td>...</td>\n",
       "      <td>...</td>\n",
       "      <td>...</td>\n",
       "    </tr>\n",
       "    <tr>\n",
       "      <th>3408</th>\n",
       "      <td>499</td>\n",
       "      <td>3265</td>\n",
       "      <td>3</td>\n",
       "    </tr>\n",
       "    <tr>\n",
       "      <th>3409</th>\n",
       "      <td>499</td>\n",
       "      <td>3626</td>\n",
       "      <td>2</td>\n",
       "    </tr>\n",
       "    <tr>\n",
       "      <th>3410</th>\n",
       "      <td>500</td>\n",
       "      <td>938</td>\n",
       "      <td>4</td>\n",
       "    </tr>\n",
       "    <tr>\n",
       "      <th>3411</th>\n",
       "      <td>500</td>\n",
       "      <td>1952</td>\n",
       "      <td>1</td>\n",
       "    </tr>\n",
       "    <tr>\n",
       "      <th>3412</th>\n",
       "      <td>500</td>\n",
       "      <td>3669</td>\n",
       "      <td>4</td>\n",
       "    </tr>\n",
       "  </tbody>\n",
       "</table>\n",
       "<p>3413 rows × 3 columns</p>\n",
       "</div>"
      ],
      "text/plain": [
       "      id_artist id_tracks id_genre\n",
       "0             1      1380        1\n",
       "1             1       460        4\n",
       "2             1      1201        2\n",
       "3             1      3053        2\n",
       "4             2      3142        3\n",
       "...         ...       ...      ...\n",
       "3408        499      3265        3\n",
       "3409        499      3626        2\n",
       "3410        500       938        4\n",
       "3411        500      1952        1\n",
       "3412        500      3669        4\n",
       "\n",
       "[3413 rows x 3 columns]"
      ]
     },
     "execution_count": 34,
     "metadata": {},
     "output_type": "execute_result"
    }
   ],
   "source": [
    "dc"
   ]
  },
  {
   "cell_type": "code",
   "execution_count": 37,
   "id": "0c6c718e",
   "metadata": {},
   "outputs": [
    {
     "data": {
      "text/plain": [
       "id_artist     int64\n",
       "id_tracks    object\n",
       "id_genre     object\n",
       "dtype: object"
      ]
     },
     "execution_count": 37,
     "metadata": {},
     "output_type": "execute_result"
    }
   ],
   "source": [
    "dc.dtypes"
   ]
  },
  {
   "cell_type": "code",
   "execution_count": 38,
   "id": "7d255111",
   "metadata": {},
   "outputs": [
    {
     "data": {
      "text/plain": [
       "id_artist    0\n",
       "id_tracks    0\n",
       "id_genre     0\n",
       "dtype: int64"
      ]
     },
     "execution_count": 38,
     "metadata": {},
     "output_type": "execute_result"
    }
   ],
   "source": [
    "dc.isnull().sum()"
   ]
  },
  {
   "cell_type": "code",
   "execution_count": 43,
   "id": "e8b42e42",
   "metadata": {},
   "outputs": [
    {
     "data": {
      "text/plain": [
       "500"
      ]
     },
     "execution_count": 43,
     "metadata": {},
     "output_type": "execute_result"
    }
   ],
   "source": [
    "dc.id_artist.nunique()"
   ]
  },
  {
   "cell_type": "code",
   "execution_count": 44,
   "id": "55de8842",
   "metadata": {},
   "outputs": [
    {
     "data": {
      "text/plain": [
       "3413"
      ]
     },
     "execution_count": 44,
     "metadata": {},
     "output_type": "execute_result"
    }
   ],
   "source": [
    "dc.id_tracks.nunique()"
   ]
  },
  {
   "cell_type": "code",
   "execution_count": 45,
   "id": "9d8d9b14",
   "metadata": {},
   "outputs": [
    {
     "data": {
      "text/plain": [
       "4"
      ]
     },
     "execution_count": 45,
     "metadata": {},
     "output_type": "execute_result"
    }
   ],
   "source": [
    "dc.id_genre.nunique()"
   ]
  },
  {
   "cell_type": "markdown",
   "id": "e1b30b1b",
   "metadata": {
    "heading_collapsed": true
   },
   "source": [
    "## Data source with feature values for each artist"
   ]
  },
  {
   "cell_type": "code",
   "execution_count": 19,
   "id": "ceb0aaf2",
   "metadata": {
    "ExecuteTime": {
     "end_time": "2023-07-23T14:53:19.852058Z",
     "start_time": "2023-07-23T14:53:19.836426Z"
    },
    "hidden": true
   },
   "outputs": [
    {
     "data": {
      "text/html": [
       "<div>\n",
       "<style scoped>\n",
       "    .dataframe tbody tr th:only-of-type {\n",
       "        vertical-align: middle;\n",
       "    }\n",
       "\n",
       "    .dataframe tbody tr th {\n",
       "        vertical-align: top;\n",
       "    }\n",
       "\n",
       "    .dataframe thead th {\n",
       "        text-align: right;\n",
       "    }\n",
       "</style>\n",
       "<table border=\"1\" class=\"dataframe\">\n",
       "  <thead>\n",
       "    <tr style=\"text-align: right;\">\n",
       "      <th></th>\n",
       "      <th>id_artist</th>\n",
       "      <th>Feature1</th>\n",
       "      <th>Feature2</th>\n",
       "      <th>Feature3</th>\n",
       "      <th>Feature4</th>\n",
       "      <th>Feature5</th>\n",
       "      <th>Feature6</th>\n",
       "      <th>Feature7</th>\n",
       "      <th>Feature8</th>\n",
       "      <th>Feature9</th>\n",
       "      <th>Feature10</th>\n",
       "    </tr>\n",
       "  </thead>\n",
       "  <tbody>\n",
       "    <tr>\n",
       "      <th>0</th>\n",
       "      <td>1</td>\n",
       "      <td>1397</td>\n",
       "      <td>1073</td>\n",
       "      <td>1303</td>\n",
       "      <td>2338</td>\n",
       "      <td>1762</td>\n",
       "      <td>164</td>\n",
       "      <td>2506</td>\n",
       "      <td>121</td>\n",
       "      <td>750</td>\n",
       "      <td>52</td>\n",
       "    </tr>\n",
       "    <tr>\n",
       "      <th>1</th>\n",
       "      <td>2</td>\n",
       "      <td>890</td>\n",
       "      <td>670</td>\n",
       "      <td>1462</td>\n",
       "      <td>-687</td>\n",
       "      <td>2700</td>\n",
       "      <td>113</td>\n",
       "      <td>1610</td>\n",
       "      <td>128</td>\n",
       "      <td>694</td>\n",
       "      <td>182</td>\n",
       "    </tr>\n",
       "    <tr>\n",
       "      <th>2</th>\n",
       "      <td>3</td>\n",
       "      <td>1299</td>\n",
       "      <td>400</td>\n",
       "      <td>1094</td>\n",
       "      <td>448</td>\n",
       "      <td>1402</td>\n",
       "      <td>143</td>\n",
       "      <td>478</td>\n",
       "      <td>802</td>\n",
       "      <td>768</td>\n",
       "      <td>155</td>\n",
       "    </tr>\n",
       "    <tr>\n",
       "      <th>3</th>\n",
       "      <td>4</td>\n",
       "      <td>797</td>\n",
       "      <td>705</td>\n",
       "      <td>1619</td>\n",
       "      <td>-688</td>\n",
       "      <td>560</td>\n",
       "      <td>55</td>\n",
       "      <td>2843</td>\n",
       "      <td>242</td>\n",
       "      <td>187</td>\n",
       "      <td>51</td>\n",
       "    </tr>\n",
       "    <tr>\n",
       "      <th>4</th>\n",
       "      <td>5</td>\n",
       "      <td>1344</td>\n",
       "      <td>713</td>\n",
       "      <td>1039</td>\n",
       "      <td>4246</td>\n",
       "      <td>1915</td>\n",
       "      <td>29</td>\n",
       "      <td>878</td>\n",
       "      <td>1079</td>\n",
       "      <td>417</td>\n",
       "      <td>25</td>\n",
       "    </tr>\n",
       "    <tr>\n",
       "      <th>...</th>\n",
       "      <td>...</td>\n",
       "      <td>...</td>\n",
       "      <td>...</td>\n",
       "      <td>...</td>\n",
       "      <td>...</td>\n",
       "      <td>...</td>\n",
       "      <td>...</td>\n",
       "      <td>...</td>\n",
       "      <td>...</td>\n",
       "      <td>...</td>\n",
       "      <td>...</td>\n",
       "    </tr>\n",
       "    <tr>\n",
       "      <th>495</th>\n",
       "      <td>496</td>\n",
       "      <td>1228</td>\n",
       "      <td>522</td>\n",
       "      <td>1217</td>\n",
       "      <td>-109</td>\n",
       "      <td>568</td>\n",
       "      <td>174</td>\n",
       "      <td>1375</td>\n",
       "      <td>207</td>\n",
       "      <td>761</td>\n",
       "      <td>219</td>\n",
       "    </tr>\n",
       "    <tr>\n",
       "      <th>496</th>\n",
       "      <td>497</td>\n",
       "      <td>1205</td>\n",
       "      <td>348</td>\n",
       "      <td>1665</td>\n",
       "      <td>1377</td>\n",
       "      <td>1683</td>\n",
       "      <td>193</td>\n",
       "      <td>1670</td>\n",
       "      <td>81</td>\n",
       "      <td>425</td>\n",
       "      <td>7</td>\n",
       "    </tr>\n",
       "    <tr>\n",
       "      <th>497</th>\n",
       "      <td>498</td>\n",
       "      <td>1386</td>\n",
       "      <td>512</td>\n",
       "      <td>1573</td>\n",
       "      <td>757</td>\n",
       "      <td>869</td>\n",
       "      <td>99</td>\n",
       "      <td>1478</td>\n",
       "      <td>373</td>\n",
       "      <td>332</td>\n",
       "      <td>87</td>\n",
       "    </tr>\n",
       "    <tr>\n",
       "      <th>498</th>\n",
       "      <td>499</td>\n",
       "      <td>1225</td>\n",
       "      <td>512</td>\n",
       "      <td>905</td>\n",
       "      <td>1409</td>\n",
       "      <td>1009</td>\n",
       "      <td>66</td>\n",
       "      <td>891</td>\n",
       "      <td>662</td>\n",
       "      <td>418</td>\n",
       "      <td>48</td>\n",
       "    </tr>\n",
       "    <tr>\n",
       "      <th>499</th>\n",
       "      <td>500</td>\n",
       "      <td>1101</td>\n",
       "      <td>697</td>\n",
       "      <td>851</td>\n",
       "      <td>842</td>\n",
       "      <td>633</td>\n",
       "      <td>79</td>\n",
       "      <td>2672</td>\n",
       "      <td>100</td>\n",
       "      <td>354</td>\n",
       "      <td>84</td>\n",
       "    </tr>\n",
       "  </tbody>\n",
       "</table>\n",
       "<p>500 rows × 11 columns</p>\n",
       "</div>"
      ],
      "text/plain": [
       "     id_artist  Feature1  Feature2  Feature3  Feature4  Feature5  Feature6  \\\n",
       "0            1      1397      1073      1303      2338      1762       164   \n",
       "1            2       890       670      1462      -687      2700       113   \n",
       "2            3      1299       400      1094       448      1402       143   \n",
       "3            4       797       705      1619      -688       560        55   \n",
       "4            5      1344       713      1039      4246      1915        29   \n",
       "..         ...       ...       ...       ...       ...       ...       ...   \n",
       "495        496      1228       522      1217      -109       568       174   \n",
       "496        497      1205       348      1665      1377      1683       193   \n",
       "497        498      1386       512      1573       757       869        99   \n",
       "498        499      1225       512       905      1409      1009        66   \n",
       "499        500      1101       697       851       842       633        79   \n",
       "\n",
       "     Feature7  Feature8  Feature9  Feature10  \n",
       "0        2506       121       750         52  \n",
       "1        1610       128       694        182  \n",
       "2         478       802       768        155  \n",
       "3        2843       242       187         51  \n",
       "4         878      1079       417         25  \n",
       "..        ...       ...       ...        ...  \n",
       "495      1375       207       761        219  \n",
       "496      1670        81       425          7  \n",
       "497      1478       373       332         87  \n",
       "498       891       662       418         48  \n",
       "499      2672       100       354         84  \n",
       "\n",
       "[500 rows x 11 columns]"
      ]
     },
     "execution_count": 19,
     "metadata": {},
     "output_type": "execute_result"
    }
   ],
   "source": [
    "df_feat"
   ]
  },
  {
   "cell_type": "code",
   "execution_count": 39,
   "id": "9841fc70",
   "metadata": {},
   "outputs": [
    {
     "data": {
      "text/plain": [
       "id_artist    int32\n",
       "Feature1     int32\n",
       "Feature2     int32\n",
       "Feature3     int32\n",
       "Feature4     int32\n",
       "Feature5     int32\n",
       "Feature6     int32\n",
       "Feature7     int32\n",
       "Feature8     int32\n",
       "Feature9     int32\n",
       "Feature10    int32\n",
       "dtype: object"
      ]
     },
     "execution_count": 39,
     "metadata": {},
     "output_type": "execute_result"
    }
   ],
   "source": [
    "df_feat.dtypes"
   ]
  },
  {
   "cell_type": "code",
   "execution_count": 40,
   "id": "7c3b07bf",
   "metadata": {},
   "outputs": [
    {
     "data": {
      "text/plain": [
       "id_artist    0\n",
       "Feature1     0\n",
       "Feature2     0\n",
       "Feature3     0\n",
       "Feature4     0\n",
       "Feature5     0\n",
       "Feature6     0\n",
       "Feature7     0\n",
       "Feature8     0\n",
       "Feature9     0\n",
       "Feature10    0\n",
       "dtype: int64"
      ]
     },
     "execution_count": 40,
     "metadata": {},
     "output_type": "execute_result"
    }
   ],
   "source": [
    "df_feat.isnull().sum()"
   ]
  },
  {
   "cell_type": "markdown",
   "id": "9bd7597c",
   "metadata": {},
   "source": [
    "## Juntando as bases"
   ]
  },
  {
   "cell_type": "code",
   "execution_count": 55,
   "id": "59075ccb",
   "metadata": {},
   "outputs": [
    {
     "data": {
      "text/html": [
       "<div>\n",
       "<style scoped>\n",
       "    .dataframe tbody tr th:only-of-type {\n",
       "        vertical-align: middle;\n",
       "    }\n",
       "\n",
       "    .dataframe tbody tr th {\n",
       "        vertical-align: top;\n",
       "    }\n",
       "\n",
       "    .dataframe thead th {\n",
       "        text-align: right;\n",
       "    }\n",
       "</style>\n",
       "<table border=\"1\" class=\"dataframe\">\n",
       "  <thead>\n",
       "    <tr style=\"text-align: right;\">\n",
       "      <th></th>\n",
       "      <th>id_artist</th>\n",
       "      <th>id_tracks</th>\n",
       "      <th>id_genre</th>\n",
       "    </tr>\n",
       "  </thead>\n",
       "  <tbody>\n",
       "    <tr>\n",
       "      <th>0</th>\n",
       "      <td>1</td>\n",
       "      <td>1380</td>\n",
       "      <td>1</td>\n",
       "    </tr>\n",
       "    <tr>\n",
       "      <th>1</th>\n",
       "      <td>1</td>\n",
       "      <td>460</td>\n",
       "      <td>4</td>\n",
       "    </tr>\n",
       "    <tr>\n",
       "      <th>2</th>\n",
       "      <td>1</td>\n",
       "      <td>1201</td>\n",
       "      <td>2</td>\n",
       "    </tr>\n",
       "    <tr>\n",
       "      <th>3</th>\n",
       "      <td>1</td>\n",
       "      <td>3053</td>\n",
       "      <td>2</td>\n",
       "    </tr>\n",
       "    <tr>\n",
       "      <th>4</th>\n",
       "      <td>2</td>\n",
       "      <td>3142</td>\n",
       "      <td>3</td>\n",
       "    </tr>\n",
       "    <tr>\n",
       "      <th>...</th>\n",
       "      <td>...</td>\n",
       "      <td>...</td>\n",
       "      <td>...</td>\n",
       "    </tr>\n",
       "    <tr>\n",
       "      <th>3408</th>\n",
       "      <td>499</td>\n",
       "      <td>3265</td>\n",
       "      <td>3</td>\n",
       "    </tr>\n",
       "    <tr>\n",
       "      <th>3409</th>\n",
       "      <td>499</td>\n",
       "      <td>3626</td>\n",
       "      <td>2</td>\n",
       "    </tr>\n",
       "    <tr>\n",
       "      <th>3410</th>\n",
       "      <td>500</td>\n",
       "      <td>938</td>\n",
       "      <td>4</td>\n",
       "    </tr>\n",
       "    <tr>\n",
       "      <th>3411</th>\n",
       "      <td>500</td>\n",
       "      <td>1952</td>\n",
       "      <td>1</td>\n",
       "    </tr>\n",
       "    <tr>\n",
       "      <th>3412</th>\n",
       "      <td>500</td>\n",
       "      <td>3669</td>\n",
       "      <td>4</td>\n",
       "    </tr>\n",
       "  </tbody>\n",
       "</table>\n",
       "<p>3413 rows × 3 columns</p>\n",
       "</div>"
      ],
      "text/plain": [
       "      id_artist id_tracks id_genre\n",
       "0             1      1380        1\n",
       "1             1       460        4\n",
       "2             1      1201        2\n",
       "3             1      3053        2\n",
       "4             2      3142        3\n",
       "...         ...       ...      ...\n",
       "3408        499      3265        3\n",
       "3409        499      3626        2\n",
       "3410        500       938        4\n",
       "3411        500      1952        1\n",
       "3412        500      3669        4\n",
       "\n",
       "[3413 rows x 3 columns]"
      ]
     },
     "execution_count": 55,
     "metadata": {},
     "output_type": "execute_result"
    }
   ],
   "source": [
    "dc"
   ]
  },
  {
   "cell_type": "code",
   "execution_count": 60,
   "id": "ee9c4bdf",
   "metadata": {},
   "outputs": [],
   "source": [
    "df_all = df.merge(dc, how='left').merge(df_feat, how = 'left')"
   ]
  },
  {
   "cell_type": "code",
   "execution_count": 63,
   "id": "44e15900",
   "metadata": {},
   "outputs": [],
   "source": [
    "df_all.to_parquet(r'raw_data/raw_recommendation_data.parquet')"
   ]
  },
  {
   "cell_type": "markdown",
   "id": "86078e4b",
   "metadata": {},
   "source": [
    "## Conclusões\n",
    "\n",
    "Sobre as features:\n",
    "artistas unicos\n",
    "user unicos\n",
    "tracks unicas\n",
    "\n",
    "Entre a base de df e dc precisarei completar\n",
    "\n",
    "\n",
    "Sobre o delineamento do problema: Ultilizei um periodo de sazonalidade semestral neste primeiro momento, porém como proximas evoluções do modelo, seria interessante desenvolver um modelo de recomendação para cada época do ano, entendendo que a temperatura média e a estação do ano pode influenciar na nmúsica a ser ouvida. Uma analogia são músicas de natal no proprio natal.\n",
    "Além disso, seria interessante também explorar um modelo para dias uteis e não uteis, com a hipotese de que em dias uteis ouvimos mais músicas de foco para trabalhar e dias não uteis músicas de descansar.\n",
    "\n",
    "Com isso, juntei as bases e passamos a proxima etapa, resolução de dados faltantes e festure engineering das variáveis."
   ]
  }
 ],
 "metadata": {
  "hide_input": false,
  "kernelspec": {
   "display_name": "base",
   "language": "python",
   "name": "python3"
  },
  "language_info": {
   "codemirror_mode": {
    "name": "ipython",
    "version": 3
   },
   "file_extension": ".py",
   "mimetype": "text/x-python",
   "name": "python",
   "nbconvert_exporter": "python",
   "pygments_lexer": "ipython3",
   "version": "3.10.13"
  },
  "toc": {
   "base_numbering": 1,
   "nav_menu": {},
   "number_sections": true,
   "sideBar": true,
   "skip_h1_title": false,
   "title_cell": "Table of Contents",
   "title_sidebar": "Contents",
   "toc_cell": false,
   "toc_position": {
    "height": "calc(100% - 180px)",
    "left": "10px",
    "top": "150px",
    "width": "279.273px"
   },
   "toc_section_display": true,
   "toc_window_display": true
  },
  "vscode": {
   "interpreter": {
    "hash": "ca02d05c83cb06a4d3d1bb3c2ad95bd9ee4b26f688526444572dc942a69d580d"
   }
  }
 },
 "nbformat": 4,
 "nbformat_minor": 5
}
