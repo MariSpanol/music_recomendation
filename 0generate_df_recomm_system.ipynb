{
 "cells": [
  {
   "cell_type": "markdown",
   "id": "73f56722",
   "metadata": {},
   "source": [
    "# Generate DFS\n",
    "\n",
    "Este notebook tem como função gerar os dataframes que serão utilizados no desenvolvimento do projeto, para tanto, teremos três data frames principais:\n",
    "* Dados transacionais: dados de cada usuário em um range de tempo específico, ou seja, quais músicas e genero aquele usuário escutou (optei por ultilizar os primeiros seis meses, delineando o estudo como sazonal semestral)\n",
    "* Dados informacionais do genero das músicas\n",
    "* Dados dos artistas"
   ]
  },
  {
   "cell_type": "markdown",
   "id": "7b8fdcb8",
   "metadata": {
    "heading_collapsed": true
   },
   "source": [
    "### Requirements"
   ]
  },
  {
   "cell_type": "code",
   "execution_count": 2,
   "id": "09f99c8d",
   "metadata": {
    "ExecuteTime": {
     "end_time": "2023-07-23T14:53:19.603307Z",
     "start_time": "2023-07-23T14:53:19.215441Z"
    },
    "hidden": true
   },
   "outputs": [],
   "source": [
    "import random\n",
    "import numpy as np\n",
    "import pandas as pd\n",
    "from datetime import datetime"
   ]
  },
  {
   "cell_type": "markdown",
   "id": "d828a42a",
   "metadata": {},
   "source": [
    "### Functions"
   ]
  },
  {
   "cell_type": "markdown",
   "id": "03d69ac3",
   "metadata": {
    "heading_collapsed": true
   },
   "source": [
    "## transactional data"
   ]
  },
  {
   "cell_type": "code",
   "execution_count": 3,
   "id": "64630332",
   "metadata": {
    "ExecuteTime": {
     "end_time": "2023-07-23T14:53:19.633313Z",
     "start_time": "2023-07-23T14:53:19.603307Z"
    },
    "hidden": true
   },
   "outputs": [],
   "source": [
    "def create_df_modeling(start_date, end_date,\n",
    "                       low_user, high_user, dau,\n",
    "                       low_track, high_track, \n",
    "                       min_plays, max_plays,\n",
    "                       min_n_tracks, max_n_tracks\n",
    "                      ):\n",
    "    # creates a range of dates\n",
    "    date_range = pd.date_range(start_date, end_date)\n",
    "    # creates empty array for the final user array\n",
    "    user_array_acum = []\n",
    "    # creates empty array for the final id_date array\n",
    "    date_array_acum = []\n",
    "    # creates empty array for the final track array\n",
    "    tracks_array_acum = []\n",
    "    # creates empty array for the final plays array\n",
    "    plays_array_acum = []\n",
    "    # minimum number of random listeners per day (dau)\n",
    "    length_user = 1 + int((high_user-low_user) * dau)\n",
    "    # for loop to random create transactional data\n",
    "    for current_date in date_range:\n",
    "        #\n",
    "        user_array = np.random.randint(low_user, high_user, size = length_user)\n",
    "        user_array_col = np.reshape(user_array, (len(user_array), 1))\n",
    "        user_array_acum.append(user_array_col)\n",
    "        #\n",
    "        date_array = current_date.strftime(\"%Y-%m-%d\")\n",
    "        date_array = np.full(len(user_array), current_date)\n",
    "        date_array_col = np.reshape(date_array, (len(date_array), 1))\n",
    "        date_array_acum.append(date_array_col)\n",
    "    # for loop that ranges from the min id_user to the max id_user\n",
    "    for k in range(0,len(np.concatenate(user_array_acum))):\n",
    "        # defines randomly the maximum range of tracks a listener can listen in 1 single day\n",
    "        length_size = random.randint(min_n_tracks, max_n_tracks)\n",
    "        # selects at random an array of id_track for the specific listener\n",
    "        tracks_array = np.random.randint(low_track, high_track, size = length_size)\n",
    "        tracks_array_acum.append(tracks_array)\n",
    "        # select at random the average of plays given by each user on a giving day\n",
    "        plays_array = np.random.randint(min_plays, max_plays, size = length_size)\n",
    "        plays_array_acum.append(plays_array) \n",
    "    # concatenates the arrays of date, id_user and plays on the final dataframe\n",
    "    date_array_final = np.concatenate(date_array_acum, axis = 0)\n",
    "    user_array_final = np.concatenate(user_array_acum, axis = 0)\n",
    "    # creates the final transactional dataframe with id_users and number of plays for each day\n",
    "    df = pd.DataFrame({'id_date':date_array_final.reshape(len(date_array_final)),\n",
    "                       'user_id':user_array_final.reshape(len(user_array_final)),\n",
    "                       'id_tracks': tracks_array_acum,\n",
    "                       'plays':plays_array_acum\n",
    "                      })\n",
    "    # explodes the final dataframe to create a vertical transactional table\n",
    "    df = df.explode(['id_tracks','plays']).reset_index(drop=True)\n",
    "    #\n",
    "    return df"
   ]
  },
  {
   "cell_type": "markdown",
   "id": "d77e63e0",
   "metadata": {
    "heading_collapsed": true
   },
   "source": [
    "## Dimensional content"
   ]
  },
  {
   "cell_type": "code",
   "execution_count": 4,
   "id": "1944c4e4",
   "metadata": {
    "ExecuteTime": {
     "end_time": "2023-07-23T14:53:19.648939Z",
     "start_time": "2023-07-23T14:53:19.633313Z"
    },
    "hidden": true
   },
   "outputs": [],
   "source": [
    "def create_dim_content(n_tracks, min_tracks, max_tracks, n_artists, n_genres):\n",
    "    # creates an initial list of id_tracks\n",
    "    id_track_list = [i for i in range(1,n_tracks+1)]\n",
    "    # creates an initial list of id_artists\n",
    "    id_artist_list = [i for i in range(1, n_artists+1)]\n",
    "    # creates an initial list of id_genres\n",
    "    id_genres = [i for i in range(1,n_genres)]\n",
    "    # creates array with the specific size of tracks by artists to be distributed amongst all artists\n",
    "    artist_array_sizes = np.random.randint(min_tracks, max_tracks, size = n_artists).tolist()\n",
    "    # Create a copy of the list\n",
    "    list_copy = id_track_list.copy()\n",
    "    # initiates an empty array to store results of for loop append (arrays of id_tracks)\n",
    "    sampled_arrays_acum = []\n",
    "    # initiates an empty array to store results of for loop append (arrays of id_genre)\n",
    "    sampled_arrays_genre_acum = []\n",
    "    # for loop to interate and create the dimensional data for id_artists and id_tracks\n",
    "    for size in artist_array_sizes:\n",
    "        if size <= len(list_copy):\n",
    "            sampled_arrays = random.sample(list_copy, size)\n",
    "            sampled_arrays_genre = random.choices(id_genres, k = size)\n",
    "            sampled_arrays_acum.append(sampled_arrays)\n",
    "            sampled_arrays_genre_acum.append(sampled_arrays_genre)\n",
    "            list_copy = [item for item in list_copy if item not in sampled_arrays]\n",
    "    # creates the final dimensional dataframe\n",
    "    df = pd.DataFrame({'id_artist':id_artist_list,\n",
    "                       'id_tracks':sampled_arrays_acum,\n",
    "                       'id_genre':sampled_arrays_genre_acum\n",
    "                      })\n",
    "    # explodes the final dataframe to create a vertical dimensional table\n",
    "    df = df.explode(['id_tracks','id_genre']).reset_index(drop = True)\n",
    "    #\n",
    "    return df"
   ]
  },
  {
   "cell_type": "markdown",
   "id": "f9e9af64",
   "metadata": {
    "heading_collapsed": true
   },
   "source": [
    "## Features for artists"
   ]
  },
  {
   "cell_type": "code",
   "execution_count": 5,
   "id": "7e372bcb",
   "metadata": {
    "ExecuteTime": {
     "end_time": "2023-07-23T14:53:19.664552Z",
     "start_time": "2023-07-23T14:53:19.648939Z"
    },
    "hidden": true
   },
   "outputs": [],
   "source": [
    "def creates_features(n_features,n_artists,std_max, min_mean, max_mean):\n",
    "    # creates an array with standard deviation of a uniform distribution\n",
    "    std_array = [random.uniform(0, std_max) for i in range(0,n_features)]\n",
    "    # creates an array with mean values of a uniform distribution\n",
    "    mean_array = [random.randint(min_mean, max_mean) for i in range(0,n_features)]\n",
    "    # creates an empty array with the number of rows as the same of the length of the quantity of artists\n",
    "    result = np.empty((n_artists, 0))\n",
    "    for i in range(0,n_features):\n",
    "        feature_i = np.random.normal(mean_array[i], std_array[i] * mean_array[i], n_artists)\n",
    "        feature_i = feature_i.astype(int)\n",
    "        result = np.column_stack((result, feature_i))\n",
    "        result = result.astype(int)\n",
    "    # creates the list of id_artist\n",
    "    id_artist = [i for i in range(1,n_artists+1)]\n",
    "    # fills values on the result array\n",
    "    result = np.column_stack((id_artist,result))\n",
    "    # creates a list with only one element\n",
    "    artist_col_names = ['id_artist']\n",
    "    # creates a list with the names of the features that will be used on the final dataframe\n",
    "    feat_col_names = ['Feature'+str(i) for i in range(1,n_features+1)]\n",
    "    # adds two lists (elements will be use as the header of the final dataframe)\n",
    "    col_names = artist_col_names + feat_col_names\n",
    "    # final dataframe with features by artist\n",
    "    df = pd.DataFrame(result, columns = col_names)\n",
    "    return df"
   ]
  },
  {
   "cell_type": "markdown",
   "id": "5b94d5c5",
   "metadata": {},
   "source": [
    "# Pipeline"
   ]
  },
  {
   "cell_type": "markdown",
   "id": "ef578b69",
   "metadata": {
    "heading_collapsed": true
   },
   "source": [
    "## Defining global parameters"
   ]
  },
  {
   "cell_type": "code",
   "execution_count": 6,
   "id": "a45482a4",
   "metadata": {
    "ExecuteTime": {
     "end_time": "2023-07-23T14:53:19.680183Z",
     "start_time": "2023-07-23T14:53:19.664552Z"
    },
    "hidden": true
   },
   "outputs": [],
   "source": [
    "########################################################################################################\n",
    "######################### input parameters for the create_df_modeling function #########################\n",
    "# Define the range of dates for the trasactional dataset\n",
    "start_date = datetime(2021, 7, 30).strftime('%Y-%m-%d')\n",
    "end_date = datetime(2023, 7, 30).strftime('%Y-%m-%d')\n",
    "# defines the minimum id_user to consider\n",
    "low_user = 1\n",
    "# defines the maximum id_user to consider\n",
    "high_user = 50\n",
    "# defines the daily audience (the percentage of the sample size of users) for each id_date\n",
    "dau = 0.1\n",
    "# defines the minimum id_track available\n",
    "low_track = 1\n",
    "# defines the maximum id_track available\n",
    "high_track = 4000\n",
    "# defines the minimum number of plays a listener can hit play every day\n",
    "min_plays = 1\n",
    "# defines the maximum number of plays a listener can hit play every day\n",
    "max_plays = 20\n",
    "# defines the minimum number of tracks a listener can listen to every day\n",
    "min_n_tracks = 2\n",
    "# defines the maximum number of tracks a listener can listen to every day\n",
    "max_n_tracks = 5\n",
    "\n",
    "\n",
    "########################################################################################################\n",
    "################ input parameters for the create_dim_content function ##################################\n",
    "# defines the total number of tracks\n",
    "n_tracks = high_track\n",
    "# defines the total number of id_artist\n",
    "n_artists = 500\n",
    "# defines the total number of genres\n",
    "n_genres = 5\n",
    "# defines the minimum number of tracks by id_artist\n",
    "min_tracks = 2 * round((n_tracks/n_artists),0) * 0.2\n",
    "# defines the maximum number of tracks by id_artist\n",
    "max_tracks = 2 * round((n_tracks/n_artists),0) * 0.8\n",
    "\n",
    "\n",
    "########################################################################################################\n",
    "################ input parameters for the creates_features function ##################################\n",
    "# number of features that are going to appear on the final dataframe\n",
    "n_features = 10\n",
    "# maximum standard deviation value for each of the feature\n",
    "std_max = 1\n",
    "# minimum value for the mean value for each of the features\n",
    "min_mean = 100\n",
    "# maximum value for the mean value for each of the features\n",
    "max_mean = 1500"
   ]
  },
  {
   "cell_type": "markdown",
   "id": "cce5f6d2",
   "metadata": {
    "heading_collapsed": true
   },
   "source": [
    "## Creates df transactional data"
   ]
  },
  {
   "cell_type": "code",
   "execution_count": 7,
   "id": "8a4e2603",
   "metadata": {
    "ExecuteTime": {
     "end_time": "2023-07-23T14:53:19.695807Z",
     "start_time": "2023-07-23T14:53:19.680183Z"
    },
    "hidden": true
   },
   "outputs": [],
   "source": [
    "#\n",
    "df = create_df_modeling(start_date, end_date,\n",
    "                        low_user, high_user, dau,\n",
    "                        low_track, high_track, \n",
    "                        min_plays, max_plays,\n",
    "                        min_n_tracks, max_n_tracks\n",
    "                       )"
   ]
  },
  {
   "cell_type": "markdown",
   "id": "85b8338e",
   "metadata": {
    "heading_collapsed": true
   },
   "source": [
    "## Creates df dimensional content"
   ]
  },
  {
   "cell_type": "code",
   "execution_count": 8,
   "id": "2176052b",
   "metadata": {
    "ExecuteTime": {
     "end_time": "2023-07-23T14:53:19.789556Z",
     "start_time": "2023-07-23T14:53:19.695807Z"
    },
    "hidden": true
   },
   "outputs": [],
   "source": [
    "dc = create_dim_content(n_tracks,min_tracks,max_tracks,n_artists, n_genres)"
   ]
  },
  {
   "cell_type": "markdown",
   "id": "928bf400",
   "metadata": {
    "heading_collapsed": true
   },
   "source": [
    "## Creates df with features by artist"
   ]
  },
  {
   "cell_type": "code",
   "execution_count": 9,
   "id": "fc54e200",
   "metadata": {
    "ExecuteTime": {
     "end_time": "2023-07-23T14:53:19.805188Z",
     "start_time": "2023-07-23T14:53:19.789556Z"
    },
    "hidden": true
   },
   "outputs": [],
   "source": [
    "df_feat = creates_features(n_features,n_artists,std_max, min_mean, max_mean)"
   ]
  },
  {
   "cell_type": "markdown",
   "id": "9e9f4a67",
   "metadata": {},
   "source": [
    "# Artefacts"
   ]
  },
  {
   "cell_type": "markdown",
   "id": "39629d3e",
   "metadata": {
    "heading_collapsed": true
   },
   "source": [
    "## Transactional data source (reference modeling dataframe)"
   ]
  },
  {
   "cell_type": "code",
   "execution_count": 10,
   "id": "0eeb8d70",
   "metadata": {
    "ExecuteTime": {
     "end_time": "2023-07-23T14:53:19.820806Z",
     "start_time": "2023-07-23T14:53:19.805188Z"
    },
    "hidden": true
   },
   "outputs": [
    {
     "data": {
      "text/html": [
       "<div>\n",
       "<style scoped>\n",
       "    .dataframe tbody tr th:only-of-type {\n",
       "        vertical-align: middle;\n",
       "    }\n",
       "\n",
       "    .dataframe tbody tr th {\n",
       "        vertical-align: top;\n",
       "    }\n",
       "\n",
       "    .dataframe thead th {\n",
       "        text-align: right;\n",
       "    }\n",
       "</style>\n",
       "<table border=\"1\" class=\"dataframe\">\n",
       "  <thead>\n",
       "    <tr style=\"text-align: right;\">\n",
       "      <th></th>\n",
       "      <th>id_date</th>\n",
       "      <th>user_id</th>\n",
       "      <th>id_tracks</th>\n",
       "      <th>plays</th>\n",
       "    </tr>\n",
       "  </thead>\n",
       "  <tbody>\n",
       "    <tr>\n",
       "      <th>0</th>\n",
       "      <td>2021-07-30</td>\n",
       "      <td>9</td>\n",
       "      <td>182</td>\n",
       "      <td>18</td>\n",
       "    </tr>\n",
       "    <tr>\n",
       "      <th>1</th>\n",
       "      <td>2021-07-30</td>\n",
       "      <td>9</td>\n",
       "      <td>3663</td>\n",
       "      <td>14</td>\n",
       "    </tr>\n",
       "    <tr>\n",
       "      <th>2</th>\n",
       "      <td>2021-07-30</td>\n",
       "      <td>9</td>\n",
       "      <td>3268</td>\n",
       "      <td>9</td>\n",
       "    </tr>\n",
       "    <tr>\n",
       "      <th>3</th>\n",
       "      <td>2021-07-30</td>\n",
       "      <td>4</td>\n",
       "      <td>178</td>\n",
       "      <td>3</td>\n",
       "    </tr>\n",
       "    <tr>\n",
       "      <th>4</th>\n",
       "      <td>2021-07-30</td>\n",
       "      <td>4</td>\n",
       "      <td>379</td>\n",
       "      <td>1</td>\n",
       "    </tr>\n",
       "    <tr>\n",
       "      <th>...</th>\n",
       "      <td>...</td>\n",
       "      <td>...</td>\n",
       "      <td>...</td>\n",
       "      <td>...</td>\n",
       "    </tr>\n",
       "    <tr>\n",
       "      <th>12771</th>\n",
       "      <td>2023-07-30</td>\n",
       "      <td>23</td>\n",
       "      <td>3193</td>\n",
       "      <td>5</td>\n",
       "    </tr>\n",
       "    <tr>\n",
       "      <th>12772</th>\n",
       "      <td>2023-07-30</td>\n",
       "      <td>23</td>\n",
       "      <td>115</td>\n",
       "      <td>15</td>\n",
       "    </tr>\n",
       "    <tr>\n",
       "      <th>12773</th>\n",
       "      <td>2023-07-30</td>\n",
       "      <td>18</td>\n",
       "      <td>1661</td>\n",
       "      <td>1</td>\n",
       "    </tr>\n",
       "    <tr>\n",
       "      <th>12774</th>\n",
       "      <td>2023-07-30</td>\n",
       "      <td>18</td>\n",
       "      <td>1965</td>\n",
       "      <td>19</td>\n",
       "    </tr>\n",
       "    <tr>\n",
       "      <th>12775</th>\n",
       "      <td>2023-07-30</td>\n",
       "      <td>18</td>\n",
       "      <td>187</td>\n",
       "      <td>7</td>\n",
       "    </tr>\n",
       "  </tbody>\n",
       "</table>\n",
       "<p>12776 rows × 4 columns</p>\n",
       "</div>"
      ],
      "text/plain": [
       "         id_date  user_id id_tracks plays\n",
       "0     2021-07-30        9       182    18\n",
       "1     2021-07-30        9      3663    14\n",
       "2     2021-07-30        9      3268     9\n",
       "3     2021-07-30        4       178     3\n",
       "4     2021-07-30        4       379     1\n",
       "...          ...      ...       ...   ...\n",
       "12771 2023-07-30       23      3193     5\n",
       "12772 2023-07-30       23       115    15\n",
       "12773 2023-07-30       18      1661     1\n",
       "12774 2023-07-30       18      1965    19\n",
       "12775 2023-07-30       18       187     7\n",
       "\n",
       "[12776 rows x 4 columns]"
      ]
     },
     "execution_count": 10,
     "metadata": {},
     "output_type": "execute_result"
    }
   ],
   "source": [
    "df"
   ]
  },
  {
   "cell_type": "code",
   "execution_count": 11,
   "id": "2d88541c",
   "metadata": {},
   "outputs": [
    {
     "data": {
      "text/plain": [
       "id_date      datetime64[ns]\n",
       "user_id               int32\n",
       "id_tracks            object\n",
       "plays                object\n",
       "dtype: object"
      ]
     },
     "execution_count": 11,
     "metadata": {},
     "output_type": "execute_result"
    }
   ],
   "source": [
    "df.dtypes"
   ]
  },
  {
   "cell_type": "code",
   "execution_count": 12,
   "id": "58080a44",
   "metadata": {},
   "outputs": [
    {
     "data": {
      "text/plain": [
       "id_date      0\n",
       "user_id      0\n",
       "id_tracks    0\n",
       "plays        0\n",
       "dtype: int64"
      ]
     },
     "execution_count": 12,
     "metadata": {},
     "output_type": "execute_result"
    }
   ],
   "source": [
    "df.isnull().sum()"
   ]
  },
  {
   "cell_type": "code",
   "execution_count": 13,
   "id": "49bcb4e2",
   "metadata": {},
   "outputs": [],
   "source": [
    "# identificando feriados\n",
    "from datetime import datetime, date\n",
    "import pandas as pd\n",
    "from pandas.tseries.holiday import AbstractHolidayCalendar, GoodFriday, Holiday, Easter, Day\n",
    "\n",
    "class Feriados(AbstractHolidayCalendar):\n",
    "    rules = [\n",
    "        Holiday('Confraternização Universal', month=1, day=1),\n",
    "        Holiday('Aniversário de São Paulo', month=1, day=25),\n",
    "        Holiday('Segunda-Feira de Carnaval', month=1, day=1, offset=[Easter(), Day(-48)]),\n",
    "        Holiday('Terça-Feira de Carnaval', month=1, day=1, offset=[Easter(), Day(-47)]),\n",
    "        Holiday('Quarta-Feira de Cinzas', month=1, day=1, offset=[Easter(), Day(-46)]),\n",
    "        # Sexta-feira Santa\n",
    "        GoodFriday,\n",
    "        Holiday('Corpus Christi', month=1, day=1, offset=[Easter(), Day(60)]),\n",
    "        Holiday('Tiradentes', month = 4, day = 21),\n",
    "        Holiday('Dia do Trabalho', month = 5, day = 1),\n",
    "        Holiday('Revolução Constitucionalista', month=7, day=9, start_date='1997-01-01'),\n",
    "        Holiday('Independência do Brasil', month = 9, day = 7),\n",
    "        Holiday('Nossa Senhora Aparecida', month = 10, day = 12),\n",
    "        Holiday('Finados', month = 11, day = 2),\n",
    "        Holiday('Proclamação da República', month = 11, day = 15),\n",
    "        Holiday('Dia da Consciencia Negra', month=11, day=20, start_date='2004-01-01'),\n",
    "        Holiday('Vespera de Natal', month=12, day=24),\n",
    "        Holiday('Natal', month = 12, day = 25)]\n",
    "\n",
    "sp_cal = Feriados()\n",
    "sp_feriados = pd.offsets.CustomBusinessDay(calendar=sp_cal)\n",
    "feriados_sp = sp_cal.holidays(datetime(2000, 12, 31), datetime(2079, 12, 31))\n",
    "\n",
    "start = datetime(2021, 7, 30)\n",
    "end = datetime(2023, 7, 30)\n",
    "date_fds = pd.bdate_range(start, end, freq='C', holidays=feriados_sp)"
   ]
  },
  {
   "cell_type": "code",
   "execution_count": 17,
   "id": "f6c80cbc",
   "metadata": {},
   "outputs": [
    {
     "data": {
      "text/plain": [
       "DatetimeIndex(['2001-01-01', '2001-01-25', '2001-02-26', '2001-02-27',\n",
       "               '2001-02-28', '2001-04-13', '2001-04-21', '2001-05-01',\n",
       "               '2001-06-14', '2001-07-09',\n",
       "               ...\n",
       "               '2079-05-01', '2079-06-22', '2079-07-09', '2079-09-07',\n",
       "               '2079-10-12', '2079-11-02', '2079-11-15', '2079-11-20',\n",
       "               '2079-12-24', '2079-12-25'],\n",
       "              dtype='datetime64[ns]', length=1340, freq=None)"
      ]
     },
     "execution_count": 17,
     "metadata": {},
     "output_type": "execute_result"
    }
   ],
   "source": [
    "feriados_sp"
   ]
  },
  {
   "cell_type": "code",
   "execution_count": 23,
   "metadata": {},
   "outputs": [],
   "source": [
    "df['holiday'] = np.where(df.id_date.isin(feriados_sp), 0, 1)\n",
    "df['plays'] = df.plays.astype(int)"
   ]
  },
  {
   "cell_type": "code",
   "execution_count": 25,
   "id": "6c562ac5",
   "metadata": {},
   "outputs": [
    {
     "data": {
      "text/html": [
       "<div>\n",
       "<style scoped>\n",
       "    .dataframe tbody tr th:only-of-type {\n",
       "        vertical-align: middle;\n",
       "    }\n",
       "\n",
       "    .dataframe tbody tr th {\n",
       "        vertical-align: top;\n",
       "    }\n",
       "\n",
       "    .dataframe thead th {\n",
       "        text-align: right;\n",
       "    }\n",
       "</style>\n",
       "<table border=\"1\" class=\"dataframe\">\n",
       "  <thead>\n",
       "    <tr style=\"text-align: right;\">\n",
       "      <th></th>\n",
       "      <th>id_date</th>\n",
       "      <th>user_id</th>\n",
       "      <th>plays</th>\n",
       "      <th>holiday</th>\n",
       "    </tr>\n",
       "  </thead>\n",
       "  <tbody>\n",
       "    <tr>\n",
       "      <th>count</th>\n",
       "      <td>12776</td>\n",
       "      <td>12776.000000</td>\n",
       "      <td>12776.000000</td>\n",
       "      <td>12776.000000</td>\n",
       "    </tr>\n",
       "    <tr>\n",
       "      <th>mean</th>\n",
       "      <td>2022-07-30 08:48:23.443957504</td>\n",
       "      <td>24.821697</td>\n",
       "      <td>9.924233</td>\n",
       "      <td>0.953976</td>\n",
       "    </tr>\n",
       "    <tr>\n",
       "      <th>min</th>\n",
       "      <td>2021-07-30 00:00:00</td>\n",
       "      <td>1.000000</td>\n",
       "      <td>1.000000</td>\n",
       "      <td>0.000000</td>\n",
       "    </tr>\n",
       "    <tr>\n",
       "      <th>25%</th>\n",
       "      <td>2022-01-27 00:00:00</td>\n",
       "      <td>13.000000</td>\n",
       "      <td>5.000000</td>\n",
       "      <td>1.000000</td>\n",
       "    </tr>\n",
       "    <tr>\n",
       "      <th>50%</th>\n",
       "      <td>2022-08-01 00:00:00</td>\n",
       "      <td>25.000000</td>\n",
       "      <td>10.000000</td>\n",
       "      <td>1.000000</td>\n",
       "    </tr>\n",
       "    <tr>\n",
       "      <th>75%</th>\n",
       "      <td>2023-01-29 00:00:00</td>\n",
       "      <td>37.000000</td>\n",
       "      <td>15.000000</td>\n",
       "      <td>1.000000</td>\n",
       "    </tr>\n",
       "    <tr>\n",
       "      <th>max</th>\n",
       "      <td>2023-07-30 00:00:00</td>\n",
       "      <td>49.000000</td>\n",
       "      <td>19.000000</td>\n",
       "      <td>1.000000</td>\n",
       "    </tr>\n",
       "    <tr>\n",
       "      <th>std</th>\n",
       "      <td>NaN</td>\n",
       "      <td>14.133237</td>\n",
       "      <td>5.510116</td>\n",
       "      <td>0.209545</td>\n",
       "    </tr>\n",
       "  </tbody>\n",
       "</table>\n",
       "</div>"
      ],
      "text/plain": [
       "                             id_date       user_id         plays       holiday\n",
       "count                          12776  12776.000000  12776.000000  12776.000000\n",
       "mean   2022-07-30 08:48:23.443957504     24.821697      9.924233      0.953976\n",
       "min              2021-07-30 00:00:00      1.000000      1.000000      0.000000\n",
       "25%              2022-01-27 00:00:00     13.000000      5.000000      1.000000\n",
       "50%              2022-08-01 00:00:00     25.000000     10.000000      1.000000\n",
       "75%              2023-01-29 00:00:00     37.000000     15.000000      1.000000\n",
       "max              2023-07-30 00:00:00     49.000000     19.000000      1.000000\n",
       "std                              NaN     14.133237      5.510116      0.209545"
      ]
     },
     "execution_count": 25,
     "metadata": {},
     "output_type": "execute_result"
    }
   ],
   "source": [
    "df.describe()"
   ]
  },
  {
   "cell_type": "code",
   "execution_count": 26,
   "id": "665f9e8a",
   "metadata": {},
   "outputs": [
    {
     "data": {
      "text/plain": [
       "49"
      ]
     },
     "execution_count": 26,
     "metadata": {},
     "output_type": "execute_result"
    }
   ],
   "source": [
    "df.user_id.nunique()"
   ]
  },
  {
   "cell_type": "markdown",
   "id": "50d4b76e",
   "metadata": {
    "heading_collapsed": true
   },
   "source": [
    "## Dimensional data source with musical genre for each track"
   ]
  },
  {
   "cell_type": "code",
   "execution_count": 27,
   "id": "3e66c22d",
   "metadata": {
    "ExecuteTime": {
     "end_time": "2023-07-23T14:53:19.836426Z",
     "start_time": "2023-07-23T14:53:19.820806Z"
    },
    "hidden": true
   },
   "outputs": [
    {
     "data": {
      "text/html": [
       "<div>\n",
       "<style scoped>\n",
       "    .dataframe tbody tr th:only-of-type {\n",
       "        vertical-align: middle;\n",
       "    }\n",
       "\n",
       "    .dataframe tbody tr th {\n",
       "        vertical-align: top;\n",
       "    }\n",
       "\n",
       "    .dataframe thead th {\n",
       "        text-align: right;\n",
       "    }\n",
       "</style>\n",
       "<table border=\"1\" class=\"dataframe\">\n",
       "  <thead>\n",
       "    <tr style=\"text-align: right;\">\n",
       "      <th></th>\n",
       "      <th>id_artist</th>\n",
       "      <th>id_tracks</th>\n",
       "      <th>id_genre</th>\n",
       "    </tr>\n",
       "  </thead>\n",
       "  <tbody>\n",
       "    <tr>\n",
       "      <th>0</th>\n",
       "      <td>1</td>\n",
       "      <td>1101</td>\n",
       "      <td>4</td>\n",
       "    </tr>\n",
       "    <tr>\n",
       "      <th>1</th>\n",
       "      <td>1</td>\n",
       "      <td>3240</td>\n",
       "      <td>3</td>\n",
       "    </tr>\n",
       "    <tr>\n",
       "      <th>2</th>\n",
       "      <td>1</td>\n",
       "      <td>3422</td>\n",
       "      <td>3</td>\n",
       "    </tr>\n",
       "    <tr>\n",
       "      <th>3</th>\n",
       "      <td>1</td>\n",
       "      <td>1704</td>\n",
       "      <td>4</td>\n",
       "    </tr>\n",
       "    <tr>\n",
       "      <th>4</th>\n",
       "      <td>1</td>\n",
       "      <td>970</td>\n",
       "      <td>1</td>\n",
       "    </tr>\n",
       "    <tr>\n",
       "      <th>...</th>\n",
       "      <td>...</td>\n",
       "      <td>...</td>\n",
       "      <td>...</td>\n",
       "    </tr>\n",
       "    <tr>\n",
       "      <th>3550</th>\n",
       "      <td>500</td>\n",
       "      <td>3853</td>\n",
       "      <td>2</td>\n",
       "    </tr>\n",
       "    <tr>\n",
       "      <th>3551</th>\n",
       "      <td>500</td>\n",
       "      <td>2132</td>\n",
       "      <td>3</td>\n",
       "    </tr>\n",
       "    <tr>\n",
       "      <th>3552</th>\n",
       "      <td>500</td>\n",
       "      <td>2631</td>\n",
       "      <td>4</td>\n",
       "    </tr>\n",
       "    <tr>\n",
       "      <th>3553</th>\n",
       "      <td>500</td>\n",
       "      <td>3098</td>\n",
       "      <td>4</td>\n",
       "    </tr>\n",
       "    <tr>\n",
       "      <th>3554</th>\n",
       "      <td>500</td>\n",
       "      <td>2908</td>\n",
       "      <td>1</td>\n",
       "    </tr>\n",
       "  </tbody>\n",
       "</table>\n",
       "<p>3555 rows × 3 columns</p>\n",
       "</div>"
      ],
      "text/plain": [
       "      id_artist id_tracks id_genre\n",
       "0             1      1101        4\n",
       "1             1      3240        3\n",
       "2             1      3422        3\n",
       "3             1      1704        4\n",
       "4             1       970        1\n",
       "...         ...       ...      ...\n",
       "3550        500      3853        2\n",
       "3551        500      2132        3\n",
       "3552        500      2631        4\n",
       "3553        500      3098        4\n",
       "3554        500      2908        1\n",
       "\n",
       "[3555 rows x 3 columns]"
      ]
     },
     "execution_count": 27,
     "metadata": {},
     "output_type": "execute_result"
    }
   ],
   "source": [
    "dc"
   ]
  },
  {
   "cell_type": "code",
   "execution_count": 28,
   "id": "0c6c718e",
   "metadata": {},
   "outputs": [
    {
     "data": {
      "text/plain": [
       "id_artist     int64\n",
       "id_tracks    object\n",
       "id_genre     object\n",
       "dtype: object"
      ]
     },
     "execution_count": 28,
     "metadata": {},
     "output_type": "execute_result"
    }
   ],
   "source": [
    "dc.dtypes"
   ]
  },
  {
   "cell_type": "code",
   "execution_count": 29,
   "id": "7d255111",
   "metadata": {},
   "outputs": [
    {
     "data": {
      "text/plain": [
       "id_artist    0\n",
       "id_tracks    0\n",
       "id_genre     0\n",
       "dtype: int64"
      ]
     },
     "execution_count": 29,
     "metadata": {},
     "output_type": "execute_result"
    }
   ],
   "source": [
    "dc.isnull().sum()"
   ]
  },
  {
   "cell_type": "code",
   "execution_count": 30,
   "id": "e8b42e42",
   "metadata": {},
   "outputs": [
    {
     "data": {
      "text/plain": [
       "500"
      ]
     },
     "execution_count": 30,
     "metadata": {},
     "output_type": "execute_result"
    }
   ],
   "source": [
    "dc.id_artist.nunique()"
   ]
  },
  {
   "cell_type": "code",
   "execution_count": 31,
   "id": "55de8842",
   "metadata": {},
   "outputs": [
    {
     "data": {
      "text/plain": [
       "3555"
      ]
     },
     "execution_count": 31,
     "metadata": {},
     "output_type": "execute_result"
    }
   ],
   "source": [
    "dc.id_tracks.nunique()"
   ]
  },
  {
   "cell_type": "code",
   "execution_count": 32,
   "id": "9d8d9b14",
   "metadata": {},
   "outputs": [
    {
     "data": {
      "text/plain": [
       "4"
      ]
     },
     "execution_count": 32,
     "metadata": {},
     "output_type": "execute_result"
    }
   ],
   "source": [
    "dc.id_genre.nunique()"
   ]
  },
  {
   "cell_type": "markdown",
   "id": "e1b30b1b",
   "metadata": {
    "heading_collapsed": true
   },
   "source": [
    "## Data source with feature values for each artist"
   ]
  },
  {
   "cell_type": "code",
   "execution_count": 33,
   "id": "ceb0aaf2",
   "metadata": {
    "ExecuteTime": {
     "end_time": "2023-07-23T14:53:19.852058Z",
     "start_time": "2023-07-23T14:53:19.836426Z"
    },
    "hidden": true
   },
   "outputs": [
    {
     "data": {
      "text/html": [
       "<div>\n",
       "<style scoped>\n",
       "    .dataframe tbody tr th:only-of-type {\n",
       "        vertical-align: middle;\n",
       "    }\n",
       "\n",
       "    .dataframe tbody tr th {\n",
       "        vertical-align: top;\n",
       "    }\n",
       "\n",
       "    .dataframe thead th {\n",
       "        text-align: right;\n",
       "    }\n",
       "</style>\n",
       "<table border=\"1\" class=\"dataframe\">\n",
       "  <thead>\n",
       "    <tr style=\"text-align: right;\">\n",
       "      <th></th>\n",
       "      <th>id_artist</th>\n",
       "      <th>Feature1</th>\n",
       "      <th>Feature2</th>\n",
       "      <th>Feature3</th>\n",
       "      <th>Feature4</th>\n",
       "      <th>Feature5</th>\n",
       "      <th>Feature6</th>\n",
       "      <th>Feature7</th>\n",
       "      <th>Feature8</th>\n",
       "      <th>Feature9</th>\n",
       "      <th>Feature10</th>\n",
       "    </tr>\n",
       "  </thead>\n",
       "  <tbody>\n",
       "    <tr>\n",
       "      <th>0</th>\n",
       "      <td>1</td>\n",
       "      <td>144</td>\n",
       "      <td>449</td>\n",
       "      <td>542</td>\n",
       "      <td>565</td>\n",
       "      <td>1257</td>\n",
       "      <td>249</td>\n",
       "      <td>230</td>\n",
       "      <td>334</td>\n",
       "      <td>-147</td>\n",
       "      <td>618</td>\n",
       "    </tr>\n",
       "    <tr>\n",
       "      <th>1</th>\n",
       "      <td>2</td>\n",
       "      <td>133</td>\n",
       "      <td>799</td>\n",
       "      <td>511</td>\n",
       "      <td>573</td>\n",
       "      <td>1208</td>\n",
       "      <td>2954</td>\n",
       "      <td>229</td>\n",
       "      <td>985</td>\n",
       "      <td>3292</td>\n",
       "      <td>595</td>\n",
       "    </tr>\n",
       "    <tr>\n",
       "      <th>2</th>\n",
       "      <td>3</td>\n",
       "      <td>108</td>\n",
       "      <td>681</td>\n",
       "      <td>388</td>\n",
       "      <td>533</td>\n",
       "      <td>1397</td>\n",
       "      <td>2943</td>\n",
       "      <td>241</td>\n",
       "      <td>1794</td>\n",
       "      <td>3304</td>\n",
       "      <td>1075</td>\n",
       "    </tr>\n",
       "    <tr>\n",
       "      <th>3</th>\n",
       "      <td>4</td>\n",
       "      <td>71</td>\n",
       "      <td>1035</td>\n",
       "      <td>691</td>\n",
       "      <td>642</td>\n",
       "      <td>1422</td>\n",
       "      <td>560</td>\n",
       "      <td>245</td>\n",
       "      <td>789</td>\n",
       "      <td>1109</td>\n",
       "      <td>1220</td>\n",
       "    </tr>\n",
       "    <tr>\n",
       "      <th>4</th>\n",
       "      <td>5</td>\n",
       "      <td>220</td>\n",
       "      <td>457</td>\n",
       "      <td>335</td>\n",
       "      <td>579</td>\n",
       "      <td>1322</td>\n",
       "      <td>1758</td>\n",
       "      <td>238</td>\n",
       "      <td>1718</td>\n",
       "      <td>862</td>\n",
       "      <td>-67</td>\n",
       "    </tr>\n",
       "    <tr>\n",
       "      <th>...</th>\n",
       "      <td>...</td>\n",
       "      <td>...</td>\n",
       "      <td>...</td>\n",
       "      <td>...</td>\n",
       "      <td>...</td>\n",
       "      <td>...</td>\n",
       "      <td>...</td>\n",
       "      <td>...</td>\n",
       "      <td>...</td>\n",
       "      <td>...</td>\n",
       "      <td>...</td>\n",
       "    </tr>\n",
       "    <tr>\n",
       "      <th>495</th>\n",
       "      <td>496</td>\n",
       "      <td>140</td>\n",
       "      <td>499</td>\n",
       "      <td>459</td>\n",
       "      <td>496</td>\n",
       "      <td>1194</td>\n",
       "      <td>1451</td>\n",
       "      <td>239</td>\n",
       "      <td>1623</td>\n",
       "      <td>-1321</td>\n",
       "      <td>838</td>\n",
       "    </tr>\n",
       "    <tr>\n",
       "      <th>496</th>\n",
       "      <td>497</td>\n",
       "      <td>38</td>\n",
       "      <td>733</td>\n",
       "      <td>774</td>\n",
       "      <td>555</td>\n",
       "      <td>1726</td>\n",
       "      <td>1582</td>\n",
       "      <td>235</td>\n",
       "      <td>1515</td>\n",
       "      <td>2008</td>\n",
       "      <td>613</td>\n",
       "    </tr>\n",
       "    <tr>\n",
       "      <th>497</th>\n",
       "      <td>498</td>\n",
       "      <td>57</td>\n",
       "      <td>452</td>\n",
       "      <td>621</td>\n",
       "      <td>589</td>\n",
       "      <td>1269</td>\n",
       "      <td>1693</td>\n",
       "      <td>220</td>\n",
       "      <td>2344</td>\n",
       "      <td>1037</td>\n",
       "      <td>2339</td>\n",
       "    </tr>\n",
       "    <tr>\n",
       "      <th>498</th>\n",
       "      <td>499</td>\n",
       "      <td>119</td>\n",
       "      <td>588</td>\n",
       "      <td>914</td>\n",
       "      <td>651</td>\n",
       "      <td>329</td>\n",
       "      <td>-522</td>\n",
       "      <td>236</td>\n",
       "      <td>772</td>\n",
       "      <td>1883</td>\n",
       "      <td>1230</td>\n",
       "    </tr>\n",
       "    <tr>\n",
       "      <th>499</th>\n",
       "      <td>500</td>\n",
       "      <td>130</td>\n",
       "      <td>746</td>\n",
       "      <td>880</td>\n",
       "      <td>552</td>\n",
       "      <td>1041</td>\n",
       "      <td>1593</td>\n",
       "      <td>222</td>\n",
       "      <td>1248</td>\n",
       "      <td>477</td>\n",
       "      <td>386</td>\n",
       "    </tr>\n",
       "  </tbody>\n",
       "</table>\n",
       "<p>500 rows × 11 columns</p>\n",
       "</div>"
      ],
      "text/plain": [
       "     id_artist  Feature1  Feature2  Feature3  Feature4  Feature5  Feature6  \\\n",
       "0            1       144       449       542       565      1257       249   \n",
       "1            2       133       799       511       573      1208      2954   \n",
       "2            3       108       681       388       533      1397      2943   \n",
       "3            4        71      1035       691       642      1422       560   \n",
       "4            5       220       457       335       579      1322      1758   \n",
       "..         ...       ...       ...       ...       ...       ...       ...   \n",
       "495        496       140       499       459       496      1194      1451   \n",
       "496        497        38       733       774       555      1726      1582   \n",
       "497        498        57       452       621       589      1269      1693   \n",
       "498        499       119       588       914       651       329      -522   \n",
       "499        500       130       746       880       552      1041      1593   \n",
       "\n",
       "     Feature7  Feature8  Feature9  Feature10  \n",
       "0         230       334      -147        618  \n",
       "1         229       985      3292        595  \n",
       "2         241      1794      3304       1075  \n",
       "3         245       789      1109       1220  \n",
       "4         238      1718       862        -67  \n",
       "..        ...       ...       ...        ...  \n",
       "495       239      1623     -1321        838  \n",
       "496       235      1515      2008        613  \n",
       "497       220      2344      1037       2339  \n",
       "498       236       772      1883       1230  \n",
       "499       222      1248       477        386  \n",
       "\n",
       "[500 rows x 11 columns]"
      ]
     },
     "execution_count": 33,
     "metadata": {},
     "output_type": "execute_result"
    }
   ],
   "source": [
    "df_feat"
   ]
  },
  {
   "cell_type": "code",
   "execution_count": 34,
   "id": "9841fc70",
   "metadata": {},
   "outputs": [
    {
     "data": {
      "text/plain": [
       "id_artist    int32\n",
       "Feature1     int32\n",
       "Feature2     int32\n",
       "Feature3     int32\n",
       "Feature4     int32\n",
       "Feature5     int32\n",
       "Feature6     int32\n",
       "Feature7     int32\n",
       "Feature8     int32\n",
       "Feature9     int32\n",
       "Feature10    int32\n",
       "dtype: object"
      ]
     },
     "execution_count": 34,
     "metadata": {},
     "output_type": "execute_result"
    }
   ],
   "source": [
    "df_feat.dtypes"
   ]
  },
  {
   "cell_type": "code",
   "execution_count": 35,
   "id": "7c3b07bf",
   "metadata": {},
   "outputs": [
    {
     "data": {
      "text/plain": [
       "id_artist    0\n",
       "Feature1     0\n",
       "Feature2     0\n",
       "Feature3     0\n",
       "Feature4     0\n",
       "Feature5     0\n",
       "Feature6     0\n",
       "Feature7     0\n",
       "Feature8     0\n",
       "Feature9     0\n",
       "Feature10    0\n",
       "dtype: int64"
      ]
     },
     "execution_count": 35,
     "metadata": {},
     "output_type": "execute_result"
    }
   ],
   "source": [
    "df_feat.isnull().sum()"
   ]
  },
  {
   "cell_type": "markdown",
   "id": "9bd7597c",
   "metadata": {},
   "source": [
    "## Juntando as bases"
   ]
  },
  {
   "cell_type": "code",
   "execution_count": 36,
   "id": "59075ccb",
   "metadata": {},
   "outputs": [
    {
     "data": {
      "text/html": [
       "<div>\n",
       "<style scoped>\n",
       "    .dataframe tbody tr th:only-of-type {\n",
       "        vertical-align: middle;\n",
       "    }\n",
       "\n",
       "    .dataframe tbody tr th {\n",
       "        vertical-align: top;\n",
       "    }\n",
       "\n",
       "    .dataframe thead th {\n",
       "        text-align: right;\n",
       "    }\n",
       "</style>\n",
       "<table border=\"1\" class=\"dataframe\">\n",
       "  <thead>\n",
       "    <tr style=\"text-align: right;\">\n",
       "      <th></th>\n",
       "      <th>id_artist</th>\n",
       "      <th>id_tracks</th>\n",
       "      <th>id_genre</th>\n",
       "    </tr>\n",
       "  </thead>\n",
       "  <tbody>\n",
       "    <tr>\n",
       "      <th>0</th>\n",
       "      <td>1</td>\n",
       "      <td>1101</td>\n",
       "      <td>4</td>\n",
       "    </tr>\n",
       "    <tr>\n",
       "      <th>1</th>\n",
       "      <td>1</td>\n",
       "      <td>3240</td>\n",
       "      <td>3</td>\n",
       "    </tr>\n",
       "    <tr>\n",
       "      <th>2</th>\n",
       "      <td>1</td>\n",
       "      <td>3422</td>\n",
       "      <td>3</td>\n",
       "    </tr>\n",
       "    <tr>\n",
       "      <th>3</th>\n",
       "      <td>1</td>\n",
       "      <td>1704</td>\n",
       "      <td>4</td>\n",
       "    </tr>\n",
       "    <tr>\n",
       "      <th>4</th>\n",
       "      <td>1</td>\n",
       "      <td>970</td>\n",
       "      <td>1</td>\n",
       "    </tr>\n",
       "    <tr>\n",
       "      <th>...</th>\n",
       "      <td>...</td>\n",
       "      <td>...</td>\n",
       "      <td>...</td>\n",
       "    </tr>\n",
       "    <tr>\n",
       "      <th>3550</th>\n",
       "      <td>500</td>\n",
       "      <td>3853</td>\n",
       "      <td>2</td>\n",
       "    </tr>\n",
       "    <tr>\n",
       "      <th>3551</th>\n",
       "      <td>500</td>\n",
       "      <td>2132</td>\n",
       "      <td>3</td>\n",
       "    </tr>\n",
       "    <tr>\n",
       "      <th>3552</th>\n",
       "      <td>500</td>\n",
       "      <td>2631</td>\n",
       "      <td>4</td>\n",
       "    </tr>\n",
       "    <tr>\n",
       "      <th>3553</th>\n",
       "      <td>500</td>\n",
       "      <td>3098</td>\n",
       "      <td>4</td>\n",
       "    </tr>\n",
       "    <tr>\n",
       "      <th>3554</th>\n",
       "      <td>500</td>\n",
       "      <td>2908</td>\n",
       "      <td>1</td>\n",
       "    </tr>\n",
       "  </tbody>\n",
       "</table>\n",
       "<p>3555 rows × 3 columns</p>\n",
       "</div>"
      ],
      "text/plain": [
       "      id_artist id_tracks id_genre\n",
       "0             1      1101        4\n",
       "1             1      3240        3\n",
       "2             1      3422        3\n",
       "3             1      1704        4\n",
       "4             1       970        1\n",
       "...         ...       ...      ...\n",
       "3550        500      3853        2\n",
       "3551        500      2132        3\n",
       "3552        500      2631        4\n",
       "3553        500      3098        4\n",
       "3554        500      2908        1\n",
       "\n",
       "[3555 rows x 3 columns]"
      ]
     },
     "execution_count": 36,
     "metadata": {},
     "output_type": "execute_result"
    }
   ],
   "source": [
    "dc"
   ]
  },
  {
   "cell_type": "code",
   "execution_count": 37,
   "id": "ee9c4bdf",
   "metadata": {},
   "outputs": [],
   "source": [
    "df_all = df.merge(dc, how='left').merge(df_feat, how = 'left')"
   ]
  },
  {
   "cell_type": "code",
   "execution_count": 38,
   "id": "44e15900",
   "metadata": {},
   "outputs": [],
   "source": [
    "df_all.to_parquet(r'data/raw_recommendation_data.parquet')"
   ]
  },
  {
   "cell_type": "markdown",
   "id": "86078e4b",
   "metadata": {},
   "source": [
    "## Conclusões\n",
    "\n",
    "Sobre as features:\n",
    "artistas unicos: 500\n",
    "\n",
    "user unicos: 49\n",
    "\n",
    "tracks unicas: 3495\n",
    "\n",
    "Temos valores nulos entre a base de df e dc\n",
    "\n",
    "Sobre o delineamento do problema: Ultilizei um periodo de sazonalidade semestral neste primeiro momento, porém como proximas evoluções do modelo, seria interessante desenvolver um modelo de recomendação para cada época do ano, entendendo que a temperatura média e a estação do ano pode influenciar na nmúsica a ser ouvida. Uma analogia são músicas de natal no proprio natal.\n",
    "Além disso, seria interessante também explorar um modelo para dias uteis e não uteis, com a hipotese de que em dias uteis ouvimos mais músicas de foco para trabalhar e dias não uteis músicas de descansar.\n",
    "\n",
    "Com isso, juntei as bases e passamos a proxima etapa, resolução de dados faltantes e festure engineering das variáveis."
   ]
  },
  {
   "cell_type": "markdown",
   "id": "bf9e6c99",
   "metadata": {},
   "source": []
  }
 ],
 "metadata": {
  "hide_input": false,
  "kernelspec": {
   "display_name": "base",
   "language": "python",
   "name": "python3"
  },
  "language_info": {
   "codemirror_mode": {
    "name": "ipython",
    "version": 3
   },
   "file_extension": ".py",
   "mimetype": "text/x-python",
   "name": "python",
   "nbconvert_exporter": "python",
   "pygments_lexer": "ipython3",
   "version": "3.10.13"
  },
  "toc": {
   "base_numbering": 1,
   "nav_menu": {},
   "number_sections": true,
   "sideBar": true,
   "skip_h1_title": false,
   "title_cell": "Table of Contents",
   "title_sidebar": "Contents",
   "toc_cell": false,
   "toc_position": {
    "height": "calc(100% - 180px)",
    "left": "10px",
    "top": "150px",
    "width": "279.273px"
   },
   "toc_section_display": true,
   "toc_window_display": true
  },
  "vscode": {
   "interpreter": {
    "hash": "ca02d05c83cb06a4d3d1bb3c2ad95bd9ee4b26f688526444572dc942a69d580d"
   }
  }
 },
 "nbformat": 4,
 "nbformat_minor": 5
}
